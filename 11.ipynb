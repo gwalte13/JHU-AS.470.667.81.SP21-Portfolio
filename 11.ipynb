{
 "cells": [
  {
   "cell_type": "markdown",
   "metadata": {},
   "source": [
    "# Assignment 12 - Neural Networks image recognition\n",
    "Use both MLNN for the following problem.\n",
    "\n",
    "1. Add random noise (i.e. `+ np.random.normal`) to the images in training and testing. **Make sure each image gets a different noise feature added to it. Inspect by printing out an image. **\n",
    "2. Compare the loss/accuracy (train, val) after N epochs for MLNN with and without noise. \n",
    "3. Vary the amount of noise (multiply `factor * np.random.normal` by a factor) and keep track of the accuracy and loss (for training and validation) and plot these results."
   ]
  },
  {
   "cell_type": "markdown",
   "metadata": {},
   "source": [
    "# Neural Networks - Image Recognition "
   ]
  },
  {
   "cell_type": "code",
   "execution_count": 263,
   "metadata": {},
   "outputs": [],
   "source": [
    "import keras\n",
    "from keras.datasets import mnist\n",
    "from keras.models import Sequential\n",
    "from keras.optimizers import RMSprop\n",
    "from keras.layers import Dense, Dropout, Flatten\n",
    "from keras.layers import Conv2D, MaxPooling2D\n",
    "from keras import backend\n",
    "import matplotlib.pyplot as plt\n",
    "import numpy as np"
   ]
  },
  {
   "cell_type": "markdown",
   "metadata": {},
   "source": [
    "## Multi Layer Neural Network\n",
    "Trains a simple deep NN on the MNIST dataset.\n",
    "Gets to 98.40% test accuracy after 20 epochs\n",
    "(there is *a lot* of margin for parameter tuning)."
   ]
  },
  {
   "cell_type": "code",
   "execution_count": 264,
   "metadata": {
    "scrolled": false
   },
   "outputs": [],
   "source": [
    "# the data, shuffled and split between train and test sets\n",
    "(x_train, y_train), (x_test, y_test) = mnist.load_data()\n",
    "x_train_noise = x_train + np.random.normal(size = x_train.shape)\n",
    "y_train_noise = y_train\n",
    "x_test_noise = x_test + np.random.normal(size = x_test.shape)\n",
    "y_test_noise = y_test\n",
    "check_train = []\n",
    "for x in range(0,len(x_train_noise)):\n",
    "    check_train.append(np.max(x_train_noise[x]))\n",
    "check_test = []\n",
    "for x in range(0,len(x_test_noise)):\n",
    "    check_test.append(np.max(x_test_noise[x]))\n",
    "    \n",
    "x_train_100 = x_train + (np.random.normal(size = x_train.shape) * 100)\n",
    "y_train_100 = y_train \n",
    "x_test_100 = x_test + (np.random.normal(size = x_test.shape) * 100)\n",
    "y_test_100 = y_test \n",
    "check_train_100 = []\n",
    "for x in range(0,len(x_train_100)):\n",
    "    check_train_100.append(np.max(x_train_100[x]))\n",
    "check_test_100 = []\n",
    "for x in range(0,len(x_test_100)):\n",
    "    check_test_100.append(np.max(x_test_100[x]))\n",
    "    \n",
    "x_train_10 = x_train + (np.random.normal(size = x_train.shape) * 10)\n",
    "y_train_10 = y_train \n",
    "x_test_10 = x_test + (np.random.normal(size = x_test.shape) * 10)\n",
    "y_test_10 = y_test \n",
    "check_train_10 = []\n",
    "for x in range(0,len(x_train_10)):\n",
    "    check_train_10.append(np.max(x_train_10[x]))\n",
    "check_test_10 = []\n",
    "for x in range(0,len(x_test_10)):\n",
    "    check_test_10.append(np.max(x_test_10[x]))\n",
    "\n",
    "x_train_50 = x_train + (np.random.normal(size = x_train.shape) * 50)\n",
    "y_train_50 = y_train \n",
    "x_test_50 = x_test + (np.random.normal(size = x_test.shape) * 50)\n",
    "y_test_50 = y_test \n",
    "check_train_50 = []\n",
    "for x in range(0,len(x_train_50)):\n",
    "    check_train_50.append(np.max(x_train_50[x]))\n",
    "check_test_50 = []\n",
    "for x in range(0,len(x_test_50)):\n",
    "    check_test_50.append(np.max(x_test_50[x]))\n",
    "    \n",
    "x_train_200 = x_train + (np.random.normal(size = x_train.shape) * 200)\n",
    "y_train_200 = y_train\n",
    "x_test_200 = x_test + (np.random.normal(size = x_test.shape) * 200)\n",
    "y_test_200 = y_test\n",
    "check_train_200 = []\n",
    "for x in range(0,len(x_train_200)):\n",
    "    check_train_200.append(np.max(x_train_200[x]))\n",
    "check_test_200 = []\n",
    "for x in range(0,len(x_test_200)):\n",
    "    check_test_200.append(np.max(x_test_200[x]))"
   ]
  },
  {
   "cell_type": "code",
   "execution_count": 265,
   "metadata": {},
   "outputs": [
    {
     "data": {
      "text/plain": [
       "<matplotlib.image.AxesImage at 0x25f8c4e6610>"
      ]
     },
     "execution_count": 265,
     "metadata": {},
     "output_type": "execute_result"
    },
    {
     "data": {
      "image/png": "[encoded data removed]",
      "text/plain": [
       "<Figure size 432x288 with 1 Axes>"
      ]
     },
     "metadata": {
      "needs_background": "light"
     },
     "output_type": "display_data"
    }
   ],
   "source": [
    "plt.imshow(x_train[0])"
   ]
  },
  {
   "cell_type": "code",
   "execution_count": 266,
   "metadata": {},
   "outputs": [
    {
     "data": {
      "text/plain": [
       "<matplotlib.image.AxesImage at 0x25f8be54100>"
      ]
     },
     "execution_count": 266,
     "metadata": {},
     "output_type": "execute_result"
    },
    {
     "data": {
      "image/png": "[encoded data removed]",
      "text/plain": [
       "<Figure size 432x288 with 1 Axes>"
      ]
     },
     "metadata": {
      "needs_background": "light"
     },
     "output_type": "display_data"
    }
   ],
   "source": [
    "plt.imshow(x_train_noise[0])"
   ]
  },
  {
   "cell_type": "code",
   "execution_count": 267,
   "metadata": {},
   "outputs": [
    {
     "data": {
      "text/plain": [
       "<matplotlib.image.AxesImage at 0x25f8c483b80>"
      ]
     },
     "execution_count": 267,
     "metadata": {},
     "output_type": "execute_result"
    },
    {
     "data": {
      "image/png": "[encoded data removed]",
      "text/plain": [
       "<Figure size 432x288 with 1 Axes>"
      ]
     },
     "metadata": {
      "needs_background": "light"
     },
     "output_type": "display_data"
    }
   ],
   "source": [
    "plt.imshow(x_train_100[0])"
   ]
  },
  {
   "cell_type": "code",
   "execution_count": 268,
   "metadata": {},
   "outputs": [
    {
     "name": "stdout",
     "output_type": "stream",
     "text": [
      "60000 train samples\n",
      "10000 test samples\n"
     ]
    }
   ],
   "source": [
    "x_train = x_train.reshape(60000, 784)\n",
    "x_test = x_test.reshape(10000, 784)\n",
    "x_train = x_train.astype('float32')\n",
    "x_test = x_test.astype('float32')\n",
    "x_train /= 255\n",
    "x_test /= 255\n",
    "print(x_train.shape[0], 'train samples')\n",
    "print(x_test.shape[0], 'test samples')"
   ]
  },
  {
   "cell_type": "code",
   "execution_count": 269,
   "metadata": {},
   "outputs": [
    {
     "name": "stdout",
     "output_type": "stream",
     "text": [
      "60000 train samples\n",
      "10000 test samples\n"
     ]
    }
   ],
   "source": [
    "x_train_noise = x_train_noise.reshape(60000, 784)\n",
    "x_test_noise = x_test_noise.reshape(10000, 784)\n",
    "x_train_noise = x_train_noise.astype('float32')\n",
    "x_test_noise = x_test_noise.astype('float32')\n",
    "x_train_noise /= max(check_train)\n",
    "x_test_noise /= max(check_test)\n",
    "print(x_train_noise.shape[0], 'train samples')\n",
    "print(x_test_noise.shape[0], 'test samples')"
   ]
  },
  {
   "cell_type": "code",
   "execution_count": 270,
   "metadata": {},
   "outputs": [
    {
     "name": "stdout",
     "output_type": "stream",
     "text": [
      "Model: \"sequential_30\"\n",
      "_________________________________________________________________\n",
      "Layer (type)                 Output Shape              Param #   \n",
      "=================================================================\n",
      "dense_90 (Dense)             (None, 512)               401920    \n",
      "_________________________________________________________________\n",
      "dropout_60 (Dropout)         (None, 512)               0         \n",
      "_________________________________________________________________\n",
      "dense_91 (Dense)             (None, 512)               262656    \n",
      "_________________________________________________________________\n",
      "dropout_61 (Dropout)         (None, 512)               0         \n",
      "_________________________________________________________________\n",
      "dense_92 (Dense)             (None, 10)                5130      \n",
      "=================================================================\n",
      "Total params: 669,706\n",
      "Trainable params: 669,706\n",
      "Non-trainable params: 0\n",
      "_________________________________________________________________\n",
      "Epoch 1/20\n",
      "469/469 [==============================] - 10s 21ms/step - loss: 0.4299 - accuracy: 0.8631 - val_loss: 0.0985 - val_accuracy: 0.9679\n",
      "Epoch 2/20\n",
      "469/469 [==============================] - 9s 19ms/step - loss: 0.1041 - accuracy: 0.9682 - val_loss: 0.0850 - val_accuracy: 0.9744\n",
      "Epoch 3/20\n",
      "469/469 [==============================] - 10s 21ms/step - loss: 0.0744 - accuracy: 0.9775 - val_loss: 0.0806 - val_accuracy: 0.9756\n",
      "Epoch 4/20\n",
      "469/469 [==============================] - 9s 20ms/step - loss: 0.0570 - accuracy: 0.9835 - val_loss: 0.0763 - val_accuracy: 0.9790\n",
      "Epoch 5/20\n",
      "469/469 [==============================] - 9s 20ms/step - loss: 0.0476 - accuracy: 0.9857 - val_loss: 0.0711 - val_accuracy: 0.9832\n",
      "Epoch 6/20\n",
      "469/469 [==============================] - 11s 23ms/step - loss: 0.0419 - accuracy: 0.9881 - val_loss: 0.0634 - val_accuracy: 0.9846\n",
      "Epoch 7/20\n",
      "469/469 [==============================] - 11s 23ms/step - loss: 0.0336 - accuracy: 0.9894 - val_loss: 0.0707 - val_accuracy: 0.9826\n",
      "Epoch 8/20\n",
      "469/469 [==============================] - 10s 21ms/step - loss: 0.0291 - accuracy: 0.9908 - val_loss: 0.0728 - val_accuracy: 0.9827\n",
      "Epoch 9/20\n",
      "469/469 [==============================] - 10s 21ms/step - loss: 0.0300 - accuracy: 0.9914 - val_loss: 0.0733 - val_accuracy: 0.9855\n",
      "Epoch 10/20\n",
      "469/469 [==============================] - 10s 21ms/step - loss: 0.0242 - accuracy: 0.9923 - val_loss: 0.0813 - val_accuracy: 0.9833\n",
      "Epoch 11/20\n",
      "469/469 [==============================] - 10s 21ms/step - loss: 0.0218 - accuracy: 0.9931 - val_loss: 0.0898 - val_accuracy: 0.9826\n",
      "Epoch 12/20\n",
      "469/469 [==============================] - 10s 21ms/step - loss: 0.0250 - accuracy: 0.9931 - val_loss: 0.0875 - val_accuracy: 0.9850\n",
      "Epoch 13/20\n",
      "469/469 [==============================] - 10s 21ms/step - loss: 0.0218 - accuracy: 0.9936 - val_loss: 0.0908 - val_accuracy: 0.9839\n",
      "Epoch 14/20\n",
      "469/469 [==============================] - 10s 21ms/step - loss: 0.0188 - accuracy: 0.9947 - val_loss: 0.1146 - val_accuracy: 0.9823\n",
      "Epoch 15/20\n",
      "469/469 [==============================] - 10s 21ms/step - loss: 0.0186 - accuracy: 0.9946 - val_loss: 0.1012 - val_accuracy: 0.9856\n",
      "Epoch 16/20\n",
      "469/469 [==============================] - 10s 21ms/step - loss: 0.0193 - accuracy: 0.9945 - val_loss: 0.1332 - val_accuracy: 0.9799\n",
      "Epoch 17/20\n",
      "469/469 [==============================] - 10s 21ms/step - loss: 0.0158 - accuracy: 0.9952 - val_loss: 0.1412 - val_accuracy: 0.9769\n",
      "Epoch 18/20\n",
      "469/469 [==============================] - 10s 21ms/step - loss: 0.0205 - accuracy: 0.9943 - val_loss: 0.1122 - val_accuracy: 0.9838\n",
      "Epoch 19/20\n",
      "469/469 [==============================] - 10s 22ms/step - loss: 0.0151 - accuracy: 0.9954 - val_loss: 0.1106 - val_accuracy: 0.9845\n",
      "Epoch 20/20\n",
      "469/469 [==============================] - 10s 21ms/step - loss: 0.0147 - accuracy: 0.9960 - val_loss: 0.1375 - val_accuracy: 0.9823\n",
      "Test loss: 0.13746723532676697\n",
      "Test accuracy: 0.9822999835014343\n"
     ]
    }
   ],
   "source": [
    "batch_size = 128\n",
    "num_classes = 10\n",
    "epochs = 20\n",
    "\n",
    "\n",
    "# convert class vectors to binary class matrices\n",
    "y_train = keras.utils.to_categorical(y_train, num_classes)\n",
    "y_test = keras.utils.to_categorical(y_test, num_classes)\n",
    "\n",
    "model = Sequential()\n",
    "model.add(Dense(512, activation='relu', input_shape=(784,)))\n",
    "model.add(Dropout(0.2))\n",
    "model.add(Dense(512, activation='relu'))\n",
    "model.add(Dropout(0.2))\n",
    "model.add(Dense(10, activation='softmax'))\n",
    "\n",
    "model.summary()\n",
    "\n",
    "model.compile(loss='categorical_crossentropy',\n",
    "              optimizer=RMSprop(),\n",
    "              metrics=['accuracy'])\n",
    "\n",
    "history = model.fit(x_train, y_train,\n",
    "                    batch_size=batch_size,\n",
    "                    epochs=epochs,\n",
    "                    verbose=1,\n",
    "                    validation_data=(x_test, y_test))\n",
    "score = model.evaluate(x_test, y_test, verbose=0)\n",
    "print('Test loss:', score[0])\n",
    "print('Test accuracy:', score[1])"
   ]
  },
  {
   "cell_type": "code",
   "execution_count": 271,
   "metadata": {},
   "outputs": [
    {
     "name": "stdout",
     "output_type": "stream",
     "text": [
      "Model: \"sequential_31\"\n",
      "_________________________________________________________________\n",
      "Layer (type)                 Output Shape              Param #   \n",
      "=================================================================\n",
      "dense_93 (Dense)             (None, 512)               401920    \n",
      "_________________________________________________________________\n",
      "dropout_62 (Dropout)         (None, 512)               0         \n",
      "_________________________________________________________________\n",
      "dense_94 (Dense)             (None, 512)               262656    \n",
      "_________________________________________________________________\n",
      "dropout_63 (Dropout)         (None, 512)               0         \n",
      "_________________________________________________________________\n",
      "dense_95 (Dense)             (None, 10)                5130      \n",
      "=================================================================\n",
      "Total params: 669,706\n",
      "Trainable params: 669,706\n",
      "Non-trainable params: 0\n",
      "_________________________________________________________________\n",
      "Epoch 1/20\n",
      "469/469 [==============================] - 11s 21ms/step - loss: 0.4428 - accuracy: 0.8598 - val_loss: 0.1161 - val_accuracy: 0.9640\n",
      "Epoch 2/20\n",
      "469/469 [==============================] - 10s 22ms/step - loss: 0.1080 - accuracy: 0.9666 - val_loss: 0.0793 - val_accuracy: 0.9764\n",
      "Epoch 3/20\n",
      "469/469 [==============================] - 10s 22ms/step - loss: 0.0720 - accuracy: 0.9782 - val_loss: 0.0775 - val_accuracy: 0.9766\n",
      "Epoch 4/20\n",
      "469/469 [==============================] - 10s 22ms/step - loss: 0.0600 - accuracy: 0.9818 - val_loss: 0.0768 - val_accuracy: 0.9785\n",
      "Epoch 5/20\n",
      "469/469 [==============================] - 10s 21ms/step - loss: 0.0457 - accuracy: 0.9858 - val_loss: 0.0802 - val_accuracy: 0.9794\n",
      "Epoch 6/20\n",
      "469/469 [==============================] - 10s 21ms/step - loss: 0.0407 - accuracy: 0.9872 - val_loss: 0.1016 - val_accuracy: 0.9737\n",
      "Epoch 7/20\n",
      "469/469 [==============================] - 10s 22ms/step - loss: 0.0357 - accuracy: 0.9895 - val_loss: 0.0775 - val_accuracy: 0.9809\n",
      "Epoch 8/20\n",
      "469/469 [==============================] - 10s 22ms/step - loss: 0.0317 - accuracy: 0.9901 - val_loss: 0.0877 - val_accuracy: 0.9817\n",
      "Epoch 9/20\n",
      "469/469 [==============================] - 10s 22ms/step - loss: 0.0250 - accuracy: 0.9925 - val_loss: 0.0832 - val_accuracy: 0.9812\n",
      "Epoch 10/20\n",
      "469/469 [==============================] - 11s 22ms/step - loss: 0.0274 - accuracy: 0.9922 - val_loss: 0.1057 - val_accuracy: 0.9804\n",
      "Epoch 11/20\n",
      "469/469 [==============================] - 10s 22ms/step - loss: 0.0238 - accuracy: 0.9934 - val_loss: 0.1007 - val_accuracy: 0.9829\n",
      "Epoch 12/20\n",
      "469/469 [==============================] - 10s 22ms/step - loss: 0.0209 - accuracy: 0.9937 - val_loss: 0.1007 - val_accuracy: 0.9821\n",
      "Epoch 13/20\n",
      "469/469 [==============================] - 10s 22ms/step - loss: 0.0225 - accuracy: 0.9941 - val_loss: 0.1013 - val_accuracy: 0.9831\n",
      "Epoch 14/20\n",
      "469/469 [==============================] - 10s 22ms/step - loss: 0.0199 - accuracy: 0.9939 - val_loss: 0.1102 - val_accuracy: 0.9834\n",
      "Epoch 15/20\n",
      "469/469 [==============================] - 11s 23ms/step - loss: 0.0197 - accuracy: 0.9946 - val_loss: 0.1137 - val_accuracy: 0.9819\n",
      "Epoch 16/20\n",
      "469/469 [==============================] - 10s 22ms/step - loss: 0.0155 - accuracy: 0.9957 - val_loss: 0.1081 - val_accuracy: 0.9840\n",
      "Epoch 17/20\n",
      "469/469 [==============================] - 10s 22ms/step - loss: 0.0158 - accuracy: 0.9954 - val_loss: 0.1194 - val_accuracy: 0.9820\n",
      "Epoch 18/20\n",
      "469/469 [==============================] - 10s 22ms/step - loss: 0.0166 - accuracy: 0.9955 - val_loss: 0.1082 - val_accuracy: 0.9850\n",
      "Epoch 19/20\n",
      "469/469 [==============================] - 10s 22ms/step - loss: 0.0155 - accuracy: 0.9950 - val_loss: 0.1205 - val_accuracy: 0.9817\n",
      "Epoch 20/20\n",
      "469/469 [==============================] - 10s 22ms/step - loss: 0.0146 - accuracy: 0.9958 - val_loss: 0.1392 - val_accuracy: 0.9826\n",
      "Test loss: 0.13915877044200897\n",
      "Test accuracy: 0.9825999736785889\n"
     ]
    }
   ],
   "source": [
    "batch_size = 128\n",
    "num_classes = 10\n",
    "epochs = 20\n",
    "\n",
    "\n",
    "# convert class vectors to binary class matrices\n",
    "y_train_noise = keras.utils.to_categorical(y_train_noise, num_classes)\n",
    "y_test_noise = keras.utils.to_categorical(y_test_noise, num_classes)\n",
    "\n",
    "model = Sequential()\n",
    "model.add(Dense(512, activation='relu', input_shape=(784,)))\n",
    "model.add(Dropout(0.2))\n",
    "model.add(Dense(512, activation='relu'))\n",
    "model.add(Dropout(0.2))\n",
    "model.add(Dense(10, activation='softmax'))\n",
    "\n",
    "model.summary()\n",
    "\n",
    "model.compile(loss='categorical_crossentropy',\n",
    "              optimizer=RMSprop(),\n",
    "              metrics=['accuracy'])\n",
    "\n",
    "history = model.fit(x_train_noise, y_train_noise,\n",
    "                    batch_size=batch_size,\n",
    "                    epochs=epochs,\n",
    "                    verbose=1,\n",
    "                    validation_data=(x_test_noise, y_test_noise))\n",
    "score_noise = model.evaluate(x_test_noise, y_test_noise, verbose=0)\n",
    "print('Test loss:', score_noise[0])\n",
    "print('Test accuracy:', score_noise[1])"
   ]
  },
  {
   "cell_type": "code",
   "execution_count": 272,
   "metadata": {},
   "outputs": [
    {
     "name": "stdout",
     "output_type": "stream",
     "text": [
      "60000 train samples\n",
      "10000 test samples\n"
     ]
    }
   ],
   "source": [
    "x_train_100 = x_train_100.reshape(60000, 784)\n",
    "x_test_100 = x_test_100.reshape(10000, 784)\n",
    "x_train_100 = x_train_100.astype('float32')\n",
    "x_test_100 = x_test_100.astype('float32')\n",
    "x_train_100 /= max(check_train_100)\n",
    "x_test_100 /= max(check_test_100)\n",
    "print(x_train_100.shape[0], 'train samples')\n",
    "print(x_test_100.shape[0], 'test samples')"
   ]
  },
  {
   "cell_type": "code",
   "execution_count": 273,
   "metadata": {},
   "outputs": [
    {
     "name": "stdout",
     "output_type": "stream",
     "text": [
      "60000 train samples\n",
      "10000 test samples\n"
     ]
    }
   ],
   "source": [
    "x_train_10 = x_train_10.reshape(60000, 784)\n",
    "x_test_10 = x_test_10.reshape(10000, 784)\n",
    "x_train_10 = x_train_10.astype('float32')\n",
    "x_test_10 = x_test_10.astype('float32')\n",
    "x_train_10 /= max(check_train_10)\n",
    "x_test_10 /= max(check_test_10)\n",
    "print(x_train_10.shape[0], 'train samples')\n",
    "print(x_test_10.shape[0], 'test samples')"
   ]
  },
  {
   "cell_type": "code",
   "execution_count": 274,
   "metadata": {},
   "outputs": [
    {
     "name": "stdout",
     "output_type": "stream",
     "text": [
      "60000 train samples\n",
      "10000 test samples\n"
     ]
    }
   ],
   "source": [
    "x_train_50 = x_train_50.reshape(60000, 784)\n",
    "x_test_50 = x_test_50.reshape(10000, 784)\n",
    "x_train_50 = x_train_50.astype('float32')\n",
    "x_test_50 = x_test_50.astype('float32')\n",
    "x_train_50 /= max(check_train_50)\n",
    "x_test_50 /= max(check_test_50)\n",
    "print(x_train_50.shape[0], 'train samples')\n",
    "print(x_test_50.shape[0], 'test samples')"
   ]
  },
  {
   "cell_type": "code",
   "execution_count": 275,
   "metadata": {},
   "outputs": [
    {
     "name": "stdout",
     "output_type": "stream",
     "text": [
      "60000 train samples\n",
      "10000 test samples\n"
     ]
    }
   ],
   "source": [
    "x_train_200 = x_train_200.reshape(60000, 784)\n",
    "x_test_200 = x_test_200.reshape(10000, 784)\n",
    "x_train_200 = x_train_200.astype('float32')\n",
    "x_test_200 = x_test_200.astype('float32')\n",
    "x_train_200 /= max(check_train_200)\n",
    "x_test_200 /= max(check_test_200)\n",
    "print(x_train_200.shape[0], 'train samples')\n",
    "print(x_test_200.shape[0], 'test samples')"
   ]
  },
  {
   "cell_type": "code",
   "execution_count": 276,
   "metadata": {},
   "outputs": [
    {
     "name": "stdout",
     "output_type": "stream",
     "text": [
      "Model: \"sequential_32\"\n",
      "_________________________________________________________________\n",
      "Layer (type)                 Output Shape              Param #   \n",
      "=================================================================\n",
      "dense_96 (Dense)             (None, 512)               401920    \n",
      "_________________________________________________________________\n",
      "dropout_64 (Dropout)         (None, 512)               0         \n",
      "_________________________________________________________________\n",
      "dense_97 (Dense)             (None, 512)               262656    \n",
      "_________________________________________________________________\n",
      "dropout_65 (Dropout)         (None, 512)               0         \n",
      "_________________________________________________________________\n",
      "dense_98 (Dense)             (None, 10)                5130      \n",
      "=================================================================\n",
      "Total params: 669,706\n",
      "Trainable params: 669,706\n",
      "Non-trainable params: 0\n",
      "_________________________________________________________________\n",
      "Epoch 1/20\n",
      "469/469 [==============================] - 11s 23ms/step - loss: 0.7034 - accuracy: 0.7735 - val_loss: 0.2559 - val_accuracy: 0.9187\n",
      "Epoch 2/20\n",
      "469/469 [==============================] - 10s 22ms/step - loss: 0.1953 - accuracy: 0.9393 - val_loss: 0.2266 - val_accuracy: 0.9344\n",
      "Epoch 3/20\n",
      "469/469 [==============================] - 10s 22ms/step - loss: 0.0992 - accuracy: 0.9697 - val_loss: 0.2507 - val_accuracy: 0.9369\n",
      "Epoch 4/20\n",
      "469/469 [==============================] - 10s 22ms/step - loss: 0.0540 - accuracy: 0.9831 - val_loss: 0.2869 - val_accuracy: 0.9379\n",
      "Epoch 5/20\n",
      "469/469 [==============================] - 10s 22ms/step - loss: 0.0309 - accuracy: 0.9901 - val_loss: 0.3330 - val_accuracy: 0.9373\n",
      "Epoch 6/20\n",
      "469/469 [==============================] - 10s 22ms/step - loss: 0.0239 - accuracy: 0.9917 - val_loss: 0.3785 - val_accuracy: 0.9345\n",
      "Epoch 7/20\n",
      "469/469 [==============================] - 10s 22ms/step - loss: 0.0191 - accuracy: 0.9936 - val_loss: 0.3977 - val_accuracy: 0.9376\n",
      "Epoch 8/20\n",
      "469/469 [==============================] - 10s 22ms/step - loss: 0.0163 - accuracy: 0.9942 - val_loss: 0.4227 - val_accuracy: 0.9428\n",
      "Epoch 9/20\n",
      "469/469 [==============================] - 10s 22ms/step - loss: 0.0133 - accuracy: 0.9953 - val_loss: 0.4618 - val_accuracy: 0.9405\n",
      "Epoch 10/20\n",
      "469/469 [==============================] - 10s 22ms/step - loss: 0.0123 - accuracy: 0.9961 - val_loss: 0.4837 - val_accuracy: 0.9428\n",
      "Epoch 11/20\n",
      "469/469 [==============================] - 10s 22ms/step - loss: 0.0099 - accuracy: 0.9962 - val_loss: 0.5201 - val_accuracy: 0.9402\n",
      "Epoch 12/20\n",
      "469/469 [==============================] - 10s 22ms/step - loss: 0.0110 - accuracy: 0.9963 - val_loss: 0.5424 - val_accuracy: 0.9397\n",
      "Epoch 13/20\n",
      "469/469 [==============================] - 10s 22ms/step - loss: 0.0105 - accuracy: 0.9965 - val_loss: 0.5545 - val_accuracy: 0.9414\n",
      "Epoch 14/20\n",
      "469/469 [==============================] - 10s 22ms/step - loss: 0.0116 - accuracy: 0.9966 - val_loss: 0.5634 - val_accuracy: 0.9412\n",
      "Epoch 15/20\n",
      "469/469 [==============================] - 10s 22ms/step - loss: 0.0094 - accuracy: 0.9968 - val_loss: 0.5753 - val_accuracy: 0.9421\n",
      "Epoch 16/20\n",
      "469/469 [==============================] - 10s 22ms/step - loss: 0.0078 - accuracy: 0.9973 - val_loss: 0.5833 - val_accuracy: 0.9420\n",
      "Epoch 17/20\n",
      "469/469 [==============================] - 10s 22ms/step - loss: 0.0091 - accuracy: 0.9968 - val_loss: 0.6325 - val_accuracy: 0.9414 - loss: 0.0091 \n",
      "Epoch 18/20\n",
      "469/469 [==============================] - 10s 22ms/step - loss: 0.0102 - accuracy: 0.9966 - val_loss: 0.6291 - val_accuracy: 0.9413\n",
      "Epoch 19/20\n",
      "469/469 [==============================] - 10s 22ms/step - loss: 0.0075 - accuracy: 0.9976 - val_loss: 0.6417 - val_accuracy: 0.9421\n",
      "Epoch 20/20\n",
      "469/469 [==============================] - 10s 22ms/step - loss: 0.0086 - accuracy: 0.9973 - val_loss: 0.6729 - val_accuracy: 0.9406\n",
      "Test loss: 0.6729483604431152\n",
      "Test accuracy: 0.9405999779701233\n"
     ]
    }
   ],
   "source": [
    "batch_size = 128\n",
    "num_classes = 10\n",
    "epochs = 20\n",
    "\n",
    "\n",
    "# convert class vectors to binary class matrices\n",
    "y_train_100 = keras.utils.to_categorical(y_train_100, num_classes)\n",
    "y_test_100 = keras.utils.to_categorical(y_test_100, num_classes)\n",
    "\n",
    "model = Sequential()\n",
    "model.add(Dense(512, activation='relu', input_shape=(784,)))\n",
    "model.add(Dropout(0.2))\n",
    "model.add(Dense(512, activation='relu'))\n",
    "model.add(Dropout(0.2))\n",
    "model.add(Dense(10, activation='softmax'))\n",
    "\n",
    "model.summary()\n",
    "\n",
    "model.compile(loss='categorical_crossentropy',\n",
    "              optimizer=RMSprop(),\n",
    "              metrics=['accuracy'])\n",
    "\n",
    "history = model.fit(x_train_100, y_train_100,\n",
    "                    batch_size=batch_size,\n",
    "                    epochs=epochs,\n",
    "                    verbose=1,\n",
    "                    validation_data=(x_test_100, y_test_100))\n",
    "score_100 = model.evaluate(x_test_100, y_test_100, verbose=0)\n",
    "print('Test loss:', score_100[0])\n",
    "print('Test accuracy:', score_100[1])"
   ]
  },
  {
   "cell_type": "code",
   "execution_count": 277,
   "metadata": {},
   "outputs": [
    {
     "name": "stdout",
     "output_type": "stream",
     "text": [
      "Model: \"sequential_33\"\n",
      "_________________________________________________________________\n",
      "Layer (type)                 Output Shape              Param #   \n",
      "=================================================================\n",
      "dense_99 (Dense)             (None, 512)               401920    \n",
      "_________________________________________________________________\n",
      "dropout_66 (Dropout)         (None, 512)               0         \n",
      "_________________________________________________________________\n",
      "dense_100 (Dense)            (None, 512)               262656    \n",
      "_________________________________________________________________\n",
      "dropout_67 (Dropout)         (None, 512)               0         \n",
      "_________________________________________________________________\n",
      "dense_101 (Dense)            (None, 10)                5130      \n",
      "=================================================================\n",
      "Total params: 669,706\n",
      "Trainable params: 669,706\n",
      "Non-trainable params: 0\n",
      "_________________________________________________________________\n",
      "Epoch 1/20\n",
      "469/469 [==============================] - 12s 23ms/step - loss: 0.4450 - accuracy: 0.8575 - val_loss: 0.1172 - val_accuracy: 0.9637\n",
      "Epoch 2/20\n",
      "469/469 [==============================] - 10s 22ms/step - loss: 0.1026 - accuracy: 0.9685 - val_loss: 0.0921 - val_accuracy: 0.9725\n",
      "Epoch 3/20\n",
      "469/469 [==============================] - 10s 22ms/step - loss: 0.0686 - accuracy: 0.9793 - val_loss: 0.0806 - val_accuracy: 0.9775\n",
      "Epoch 4/20\n",
      "469/469 [==============================] - 10s 22ms/step - loss: 0.0474 - accuracy: 0.9851 - val_loss: 0.0688 - val_accuracy: 0.9800\n",
      "Epoch 5/20\n",
      "469/469 [==============================] - 10s 22ms/step - loss: 0.0372 - accuracy: 0.9887 - val_loss: 0.0835 - val_accuracy: 0.9786\n",
      "Epoch 6/20\n",
      "469/469 [==============================] - 10s 22ms/step - loss: 0.0291 - accuracy: 0.9907 - val_loss: 0.0870 - val_accuracy: 0.9797\n",
      "Epoch 7/20\n",
      "469/469 [==============================] - 10s 22ms/step - loss: 0.0248 - accuracy: 0.9915 - val_loss: 0.1006 - val_accuracy: 0.9805\n",
      "Epoch 8/20\n",
      "469/469 [==============================] - 10s 22ms/step - loss: 0.0215 - accuracy: 0.9928 - val_loss: 0.0831 - val_accuracy: 0.9808\n",
      "Epoch 9/20\n",
      "469/469 [==============================] - 10s 22ms/step - loss: 0.0187 - accuracy: 0.9940 - val_loss: 0.0947 - val_accuracy: 0.9809\n",
      "Epoch 10/20\n",
      "469/469 [==============================] - 10s 22ms/step - loss: 0.0171 - accuracy: 0.9945 - val_loss: 0.1191 - val_accuracy: 0.9788\n",
      "Epoch 11/20\n",
      "469/469 [==============================] - 10s 22ms/step - loss: 0.0158 - accuracy: 0.9952 - val_loss: 0.1023 - val_accuracy: 0.9837\n",
      "Epoch 12/20\n",
      "469/469 [==============================] - 10s 22ms/step - loss: 0.0138 - accuracy: 0.9955 - val_loss: 0.1136 - val_accuracy: 0.9820\n",
      "Epoch 13/20\n",
      "469/469 [==============================] - 10s 22ms/step - loss: 0.0133 - accuracy: 0.9964 - val_loss: 0.1274 - val_accuracy: 0.9807\n",
      "Epoch 14/20\n",
      "469/469 [==============================] - 10s 22ms/step - loss: 0.0124 - accuracy: 0.9965 - val_loss: 0.1073 - val_accuracy: 0.9839\n",
      "Epoch 15/20\n",
      "469/469 [==============================] - 10s 22ms/step - loss: 0.0097 - accuracy: 0.9972 - val_loss: 0.1233 - val_accuracy: 0.9826\n",
      "Epoch 16/20\n",
      "469/469 [==============================] - 10s 22ms/step - loss: 0.0110 - accuracy: 0.9966 - val_loss: 0.1228 - val_accuracy: 0.9829\n",
      "Epoch 17/20\n",
      "469/469 [==============================] - 10s 22ms/step - loss: 0.0116 - accuracy: 0.9967 - val_loss: 0.1425 - val_accuracy: 0.9815\n",
      "Epoch 18/20\n",
      "469/469 [==============================] - 10s 22ms/step - loss: 0.0115 - accuracy: 0.9969 - val_loss: 0.1435 - val_accuracy: 0.9826\n",
      "Epoch 19/20\n",
      "469/469 [==============================] - 10s 22ms/step - loss: 0.0097 - accuracy: 0.9974 - val_loss: 0.1476 - val_accuracy: 0.9809\n",
      "Epoch 20/20\n",
      "469/469 [==============================] - 10s 22ms/step - loss: 0.0086 - accuracy: 0.9975 - val_loss: 0.1607 - val_accuracy: 0.9812\n",
      "Test loss: 0.1607392132282257\n",
      "Test accuracy: 0.9811999797821045\n"
     ]
    }
   ],
   "source": [
    "batch_size = 128\n",
    "num_classes = 10\n",
    "epochs = 20\n",
    "\n",
    "\n",
    "# convert class vectors to binary class matrices\n",
    "y_train_10 = keras.utils.to_categorical(y_train_10, num_classes)\n",
    "y_test_10 = keras.utils.to_categorical(y_test_10, num_classes)\n",
    "\n",
    "model = Sequential()\n",
    "model.add(Dense(512, activation='relu', input_shape=(784,)))\n",
    "model.add(Dropout(0.2))\n",
    "model.add(Dense(512, activation='relu'))\n",
    "model.add(Dropout(0.2))\n",
    "model.add(Dense(10, activation='softmax'))\n",
    "\n",
    "model.summary()\n",
    "\n",
    "model.compile(loss='categorical_crossentropy',\n",
    "              optimizer=RMSprop(),\n",
    "              metrics=['accuracy'])\n",
    "\n",
    "history = model.fit(x_train_10, y_train_10,\n",
    "                    batch_size=batch_size,\n",
    "                    epochs=epochs,\n",
    "                    verbose=1,\n",
    "                    validation_data=(x_test_10, y_test_10))\n",
    "score_10 = model.evaluate(x_test_10, y_test_10, verbose=0)\n",
    "print('Test loss:', score_10[0])\n",
    "print('Test accuracy:', score_10[1])"
   ]
  },
  {
   "cell_type": "code",
   "execution_count": 278,
   "metadata": {},
   "outputs": [
    {
     "name": "stdout",
     "output_type": "stream",
     "text": [
      "Model: \"sequential_34\"\n",
      "_________________________________________________________________\n",
      "Layer (type)                 Output Shape              Param #   \n",
      "=================================================================\n",
      "dense_102 (Dense)            (None, 512)               401920    \n",
      "_________________________________________________________________\n",
      "dropout_68 (Dropout)         (None, 512)               0         \n",
      "_________________________________________________________________\n",
      "dense_103 (Dense)            (None, 512)               262656    \n",
      "_________________________________________________________________\n",
      "dropout_69 (Dropout)         (None, 512)               0         \n",
      "_________________________________________________________________\n",
      "dense_104 (Dense)            (None, 10)                5130      \n",
      "=================================================================\n",
      "Total params: 669,706\n",
      "Trainable params: 669,706\n",
      "Non-trainable params: 0\n",
      "_________________________________________________________________\n",
      "Epoch 1/20\n",
      "469/469 [==============================] - 11s 22ms/step - loss: 0.5418 - accuracy: 0.8309 - val_loss: 0.1606 - val_accuracy: 0.9486\n",
      "Epoch 2/20\n",
      "469/469 [==============================] - 11s 23ms/step - loss: 0.1266 - accuracy: 0.9614 - val_loss: 0.1204 - val_accuracy: 0.9634\n",
      "Epoch 3/20\n",
      "469/469 [==============================] - 10s 22ms/step - loss: 0.0618 - accuracy: 0.9804 - val_loss: 0.1322 - val_accuracy: 0.9619\n",
      "Epoch 4/20\n",
      "469/469 [==============================] - 10s 22ms/step - loss: 0.0369 - accuracy: 0.9877 - val_loss: 0.1440 - val_accuracy: 0.9669\n",
      "Epoch 5/20\n",
      "469/469 [==============================] - 10s 22ms/step - loss: 0.0260 - accuracy: 0.9908 - val_loss: 0.1653 - val_accuracy: 0.9656\n",
      "Epoch 6/20\n",
      "469/469 [==============================] - 10s 22ms/step - loss: 0.0186 - accuracy: 0.9936 - val_loss: 0.1701 - val_accuracy: 0.9668\n",
      "Epoch 7/20\n",
      "469/469 [==============================] - 10s 22ms/step - loss: 0.0134 - accuracy: 0.9955 - val_loss: 0.1786 - val_accuracy: 0.9686\n",
      "Epoch 8/20\n",
      "469/469 [==============================] - 10s 22ms/step - loss: 0.0121 - accuracy: 0.9957 - val_loss: 0.2084 - val_accuracy: 0.9663\n",
      "Epoch 9/20\n",
      "469/469 [==============================] - 10s 22ms/step - loss: 0.0108 - accuracy: 0.9962 - val_loss: 0.2099 - val_accuracy: 0.9674\n",
      "Epoch 10/20\n",
      "469/469 [==============================] - 10s 22ms/step - loss: 0.0093 - accuracy: 0.9966 - val_loss: 0.2277 - val_accuracy: 0.9672\n",
      "Epoch 11/20\n",
      "469/469 [==============================] - 10s 22ms/step - loss: 0.0080 - accuracy: 0.9972 - val_loss: 0.2432 - val_accuracy: 0.9660\n",
      "Epoch 12/20\n",
      "469/469 [==============================] - 10s 22ms/step - loss: 0.0074 - accuracy: 0.9976 - val_loss: 0.2575 - val_accuracy: 0.9665\n",
      "Epoch 13/20\n",
      "469/469 [==============================] - 10s 22ms/step - loss: 0.0077 - accuracy: 0.9977 - val_loss: 0.2640 - val_accuracy: 0.9662\n",
      "Epoch 14/20\n",
      "469/469 [==============================] - 10s 22ms/step - loss: 0.0066 - accuracy: 0.9981 - val_loss: 0.2794 - val_accuracy: 0.9666\n",
      "Epoch 15/20\n",
      "469/469 [==============================] - 10s 22ms/step - loss: 0.0077 - accuracy: 0.9977 - val_loss: 0.3109 - val_accuracy: 0.9650\n",
      "Epoch 16/20\n",
      "469/469 [==============================] - 10s 22ms/step - loss: 0.0079 - accuracy: 0.9979 - val_loss: 0.3280 - val_accuracy: 0.9656\n",
      "Epoch 17/20\n",
      "469/469 [==============================] - 10s 22ms/step - loss: 0.0071 - accuracy: 0.9977 - val_loss: 0.2903 - val_accuracy: 0.9672\n",
      "Epoch 18/20\n",
      "469/469 [==============================] - 10s 22ms/step - loss: 0.0059 - accuracy: 0.9983 - val_loss: 0.3105 - val_accuracy: 0.9675\n",
      "Epoch 19/20\n",
      "469/469 [==============================] - 10s 22ms/step - loss: 0.0078 - accuracy: 0.9981 - val_loss: 0.2984 - val_accuracy: 0.9701\n",
      "Epoch 20/20\n",
      "469/469 [==============================] - 10s 22ms/step - loss: 0.0084 - accuracy: 0.9979 - val_loss: 0.3359 - val_accuracy: 0.9677\n",
      "Test loss: 0.33585208654403687\n",
      "Test accuracy: 0.9677000045776367\n"
     ]
    }
   ],
   "source": [
    "batch_size = 128\n",
    "num_classes = 10\n",
    "epochs = 20\n",
    "\n",
    "\n",
    "# convert class vectors to binary class matrices\n",
    "y_train_50 = keras.utils.to_categorical(y_train_50, num_classes)\n",
    "y_test_50 = keras.utils.to_categorical(y_test_50, num_classes)\n",
    "\n",
    "model = Sequential()\n",
    "model.add(Dense(512, activation='relu', input_shape=(784,)))\n",
    "model.add(Dropout(0.2))\n",
    "model.add(Dense(512, activation='relu'))\n",
    "model.add(Dropout(0.2))\n",
    "model.add(Dense(10, activation='softmax'))\n",
    "\n",
    "model.summary()\n",
    "\n",
    "model.compile(loss='categorical_crossentropy',\n",
    "              optimizer=RMSprop(),\n",
    "              metrics=['accuracy'])\n",
    "\n",
    "history = model.fit(x_train_50, y_train_50,\n",
    "                    batch_size=batch_size,\n",
    "                    epochs=epochs,\n",
    "                    verbose=1,\n",
    "                    validation_data=(x_test_50, y_test_50))\n",
    "score_50 = model.evaluate(x_test_50, y_test_50, verbose=0)\n",
    "print('Test loss:', score_50[0])\n",
    "print('Test accuracy:', score_50[1])"
   ]
  },
  {
   "cell_type": "code",
   "execution_count": 279,
   "metadata": {},
   "outputs": [
    {
     "name": "stdout",
     "output_type": "stream",
     "text": [
      "Model: \"sequential_35\"\n",
      "_________________________________________________________________\n",
      "Layer (type)                 Output Shape              Param #   \n",
      "=================================================================\n",
      "dense_105 (Dense)            (None, 512)               401920    \n",
      "_________________________________________________________________\n",
      "dropout_70 (Dropout)         (None, 512)               0         \n",
      "_________________________________________________________________\n",
      "dense_106 (Dense)            (None, 512)               262656    \n",
      "_________________________________________________________________\n",
      "dropout_71 (Dropout)         (None, 512)               0         \n",
      "_________________________________________________________________\n",
      "dense_107 (Dense)            (None, 10)                5130      \n",
      "=================================================================\n",
      "Total params: 669,706\n",
      "Trainable params: 669,706\n",
      "Non-trainable params: 0\n",
      "_________________________________________________________________\n",
      "Epoch 1/20\n",
      "469/469 [==============================] - 11s 22ms/step - loss: 1.0607 - accuracy: 0.6462 - val_loss: 0.5768 - val_accuracy: 0.8093\n",
      "Epoch 2/20\n",
      "469/469 [==============================] - 10s 22ms/step - loss: 0.4928 - accuracy: 0.8354 - val_loss: 0.4958 - val_accuracy: 0.8359\n",
      "Epoch 3/20\n",
      "469/469 [==============================] - 10s 22ms/step - loss: 0.3088 - accuracy: 0.9004 - val_loss: 0.5120 - val_accuracy: 0.8442\n",
      "Epoch 4/20\n",
      "469/469 [==============================] - 10s 22ms/step - loss: 0.1820 - accuracy: 0.9416 - val_loss: 0.5819 - val_accuracy: 0.8425\n",
      "Epoch 5/20\n",
      "469/469 [==============================] - 10s 22ms/step - loss: 0.1110 - accuracy: 0.9627 - val_loss: 0.6581 - val_accuracy: 0.8448\n",
      "Epoch 6/20\n",
      "469/469 [==============================] - 10s 22ms/step - loss: 0.0740 - accuracy: 0.9746 - val_loss: 0.7751 - val_accuracy: 0.8391\n",
      "Epoch 7/20\n",
      "469/469 [==============================] - 10s 22ms/step - loss: 0.0574 - accuracy: 0.9802 - val_loss: 0.8483 - val_accuracy: 0.8416\n",
      "Epoch 8/20\n",
      "469/469 [==============================] - 10s 22ms/step - loss: 0.0510 - accuracy: 0.9824 - val_loss: 0.9210 - val_accuracy: 0.8418\n",
      "Epoch 9/20\n",
      "469/469 [==============================] - 10s 22ms/step - loss: 0.0456 - accuracy: 0.9846 - val_loss: 1.0050 - val_accuracy: 0.8391\n",
      "Epoch 10/20\n",
      "469/469 [==============================] - 10s 22ms/step - loss: 0.0387 - accuracy: 0.9864 - val_loss: 1.0159 - val_accuracy: 0.8358\n",
      "Epoch 11/20\n",
      "469/469 [==============================] - 12s 27ms/step - loss: 0.0393 - accuracy: 0.9865 - val_loss: 1.0630 - val_accuracy: 0.8397\n",
      "Epoch 12/20\n",
      "469/469 [==============================] - 12s 25ms/step - loss: 0.0376 - accuracy: 0.9872 - val_loss: 1.1055 - val_accuracy: 0.8422\n",
      "Epoch 13/20\n",
      "469/469 [==============================] - 10s 22ms/step - loss: 0.0326 - accuracy: 0.9890 - val_loss: 1.1822 - val_accuracy: 0.8395\n",
      "Epoch 14/20\n",
      "469/469 [==============================] - 10s 22ms/step - loss: 0.0316 - accuracy: 0.9895 - val_loss: 1.1836 - val_accuracy: 0.8387\n",
      "Epoch 15/20\n",
      "469/469 [==============================] - 10s 22ms/step - loss: 0.0316 - accuracy: 0.9899 - val_loss: 1.2675 - val_accuracy: 0.8418\n",
      "Epoch 16/20\n",
      "469/469 [==============================] - 10s 22ms/step - loss: 0.0301 - accuracy: 0.9901 - val_loss: 1.2380 - val_accuracy: 0.8392\n",
      "Epoch 17/20\n",
      "469/469 [==============================] - 10s 22ms/step - loss: 0.0300 - accuracy: 0.9906 - val_loss: 1.2723 - val_accuracy: 0.8408\n",
      "Epoch 18/20\n",
      "469/469 [==============================] - 10s 22ms/step - loss: 0.0276 - accuracy: 0.9906 - val_loss: 1.3448 - val_accuracy: 0.8401\n",
      "Epoch 19/20\n",
      "469/469 [==============================] - 10s 22ms/step - loss: 0.0270 - accuracy: 0.9910 - val_loss: 1.3655 - val_accuracy: 0.8419\n",
      "Epoch 20/20\n",
      "469/469 [==============================] - 10s 22ms/step - loss: 0.0264 - accuracy: 0.9911 - val_loss: 1.3805 - val_accuracy: 0.8432\n",
      "Test loss: 1.3805060386657715\n",
      "Test accuracy: 0.8432000279426575\n"
     ]
    }
   ],
   "source": [
    "batch_size = 128\n",
    "num_classes = 10\n",
    "epochs = 20\n",
    "\n",
    "\n",
    "# convert class vectors to binary class matrices\n",
    "y_train_200 = keras.utils.to_categorical(y_train_200, num_classes)\n",
    "y_test_200 = keras.utils.to_categorical(y_test_200, num_classes)\n",
    "\n",
    "model = Sequential()\n",
    "model.add(Dense(512, activation='relu', input_shape=(784,)))\n",
    "model.add(Dropout(0.2))\n",
    "model.add(Dense(512, activation='relu'))\n",
    "model.add(Dropout(0.2))\n",
    "model.add(Dense(10, activation='softmax'))\n",
    "\n",
    "model.summary()\n",
    "\n",
    "model.compile(loss='categorical_crossentropy',\n",
    "              optimizer=RMSprop(),\n",
    "              metrics=['accuracy'])\n",
    "\n",
    "history = model.fit(x_train_200, y_train_200,\n",
    "                    batch_size=batch_size,\n",
    "                    epochs=epochs,\n",
    "                    verbose=1,\n",
    "                    validation_data=(x_test_200, y_test_200))\n",
    "score_200 = model.evaluate(x_test_200, y_test_200, verbose=0)\n",
    "print('Test loss:', score_200[0])\n",
    "print('Test accuracy:', score_200[1])"
   ]
  },
  {
   "cell_type": "code",
   "execution_count": 280,
   "metadata": {},
   "outputs": [
    {
     "data": {
      "image/png": "[encoded data removed]",
      "text/plain": [
       "<Figure size 720x576 with 1 Axes>"
      ]
     },
     "metadata": {
      "needs_background": "light"
     },
     "output_type": "display_data"
    }
   ],
   "source": [
    "objects = ('No Noise', 'Factor=1', 'Factor=10', 'Factor=50', \n",
    "           'Factor=100', 'Factor=200')\n",
    "scores =[score[1], score_noise[1], score_10[1], score_50[1], score_100[1], score_200[1]]\n",
    "performance = np.arange(len(objects))\n",
    "plt.figure(figsize=(10,8))\n",
    "plt.bar(performance, scores)\n",
    "plt.xticks(performance, objects)\n",
    "plt.ylim([.80, 1])\n",
    "plt.ylabel(\"Test Accuracy\")\n",
    "plt.grid(True)\n",
    "plt.show()"
   ]
  },
  {
   "cell_type": "code",
   "execution_count": 283,
   "metadata": {},
   "outputs": [
    {
     "data": {
      "image/png": "[encoded data removed]",
      "text/plain": [
       "<Figure size 720x576 with 1 Axes>"
      ]
     },
     "metadata": {
      "needs_background": "light"
     },
     "output_type": "display_data"
    }
   ],
   "source": [
    "objects = ('No Noise', 'Factor=1', 'Factor=10', 'Factor=50', \n",
    "           'Factor=100', 'Factor=200')\n",
    "scores =[score[0], score_noise[0], score_10[0], score_50[0], score_100[0], score_200[0]]\n",
    "performance = np.arange(len(objects))\n",
    "plt.figure(figsize=(10,8))\n",
    "plt.bar(performance, scores)\n",
    "plt.xticks(performance, objects)\n",
    "plt.ylim([0, 1.5])\n",
    "plt.ylabel(\"Test Loss\")\n",
    "plt.grid(True)\n",
    "plt.show()"
   ]
  }
 ],
 "metadata": {
  "kernelspec": {
   "display_name": "Python 3",
   "language": "python",
   "name": "python3"
  },
  "language_info": {
   "codemirror_mode": {
    "name": "ipython",
    "version": 3
   },
   "file_extension": ".py",
   "mimetype": "text/x-python",
   "name": "python",
   "nbconvert_exporter": "python",
   "pygments_lexer": "ipython3",
   "version": "3.8.5"
  }
 },
 "nbformat": 4,
 "nbformat_minor": 2
}
