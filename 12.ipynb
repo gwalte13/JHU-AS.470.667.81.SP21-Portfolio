{
 "cells": [
  {
   "cell_type": "markdown",
   "metadata": {},
   "source": [
    "# Assignment 12 - Neural Networks image recognition\n",
    "Use the ConvNet for the following problem.\n",
    "\n",
    "1. Add random noise (i.e. `+ np.random.normal`) to the images in training and testing. Make sure each image gets a different noise feature added to it. Inspect by printing out an image. \n",
    "2. Compare the loss/accuracy (train, val) after N epochs for ConvNet **with** and **without** noise. \n",
    "3. Vary the amount of noise (multiply `factor * np.random.normal` choose 10 to 20 appropriate values for `factor`) and keep track of the **accuracy** and **loss** (for training and validation) for each **factor** and plot these results in two separate charts."
   ]
  },
  {
   "cell_type": "markdown",
   "metadata": {},
   "source": [
    "# Neural Networks - Image Recognition "
   ]
  },
  {
   "cell_type": "code",
   "execution_count": 56,
   "metadata": {},
   "outputs": [],
   "source": [
    "import keras\n",
    "from keras.datasets import mnist\n",
    "from keras.models import Sequential\n",
    "from keras.optimizers import RMSprop\n",
    "from keras.layers import Dense, Dropout, Flatten\n",
    "from keras.layers import Conv2D, MaxPooling2D\n",
    "from keras import backend\n",
    "import matplotlib.pyplot as plt\n",
    "import numpy as np"
   ]
  },
  {
   "cell_type": "markdown",
   "metadata": {},
   "source": [
    "## Conv Net\n",
    "Trains a simple convnet on the MNIST dataset.\n",
    "Gets to 99.25% test accuracy after 12 epochs\n",
    "(there is still a lot of margin for parameter tuning).\n"
   ]
  },
  {
   "cell_type": "code",
   "execution_count": 57,
   "metadata": {
    "scrolled": true
   },
   "outputs": [],
   "source": [
    "# input image dimensions\n",
    "img_rows, img_cols = 28, 28\n",
    "\n",
    "# the data, shuffled and split between train and test sets\n",
    "(x_train, y_train), (x_test, y_test) = mnist.load_data()\n",
    "x_train_noise = x_train + np.random.normal(size = x_train.shape)\n",
    "y_train_noise = y_train\n",
    "x_test_noise = x_test + np.random.normal(size = x_test.shape)\n",
    "y_test_noise = y_test\n",
    "check_train = []\n",
    "for x in range(0,len(x_train_noise)):\n",
    "    check_train.append(np.max(x_train_noise[x]))\n",
    "check_test = []\n",
    "for x in range(0,len(x_test_noise)):\n",
    "    check_test.append(np.max(x_test_noise[x]))\n",
    "\n",
    "x_train_10 = x_train + (np.random.normal(size = x_train.shape) * 10)\n",
    "y_train_10 = y_train \n",
    "x_test_10 = x_test + (np.random.normal(size = x_test.shape) * 10)\n",
    "y_test_10 = y_test \n",
    "check_train_10 = []\n",
    "for x in range(0,len(x_train_10)):\n",
    "    check_train_10.append(np.max(x_train_10[x]))\n",
    "check_test_10 = []\n",
    "for x in range(0,len(x_test_10)):\n",
    "    check_test_10.append(np.max(x_test_10[x]))\n",
    "    \n",
    "x_train_20 = x_train + (np.random.normal(size = x_train.shape) * 20)\n",
    "y_train_20 = y_train\n",
    "x_test_20 = x_test + (np.random.normal(size = x_test.shape) * 20)\n",
    "y_test_20 = y_test\n",
    "check_train_20 = []\n",
    "for x in range(0,len(x_train_20)):\n",
    "    check_train_20.append(np.max(x_train_20[x]))\n",
    "check_test_20 = []\n",
    "for x in range(0,len(x_test_20)):\n",
    "    check_test_20.append(np.max(x_test_20[x]))\n",
    "\n",
    "x_train_50 = x_train + (np.random.normal(size = x_train.shape) * 50)\n",
    "y_train_50 = y_train \n",
    "x_test_50 = x_test + (np.random.normal(size = x_test.shape) * 50)\n",
    "y_test_50 = y_test \n",
    "check_train_50 = []\n",
    "for x in range(0,len(x_train_50)):\n",
    "    check_train_50.append(np.max(x_train_50[x]))\n",
    "check_test_50 = []\n",
    "for x in range(0,len(x_test_50)):\n",
    "    check_test_50.append(np.max(x_test_50[x]))\n",
    "    \n",
    "x_train_70 = x_train + (np.random.normal(size = x_train.shape) * 70)\n",
    "y_train_70 = y_train\n",
    "x_test_70 = x_test + (np.random.normal(size = x_test.shape) * 70)\n",
    "y_test_70 = y_test\n",
    "check_train_70 = []\n",
    "for x in range(0,len(x_train_70)):\n",
    "    check_train_70.append(np.max(x_train_70[x]))\n",
    "check_test_70 = []\n",
    "for x in range(0,len(x_test_70)):\n",
    "    check_test_70.append(np.max(x_test_70[x]))\n",
    "    \n",
    "x_train_90 = x_train + (np.random.normal(size = x_train.shape) * 90)\n",
    "y_train_90 = y_train\n",
    "x_test_90 = x_test + (np.random.normal(size = x_test.shape) * 90)\n",
    "y_test_90 = y_test\n",
    "check_train_90 = []\n",
    "for x in range(0,len(x_train_90)):\n",
    "    check_train_90.append(np.max(x_train_90[x]))\n",
    "check_test_90 = []\n",
    "for x in range(0,len(x_test_90)):\n",
    "    check_test_90.append(np.max(x_test_90[x]))\n",
    "    \n",
    "x_train_100 = x_train + (np.random.normal(size = x_train.shape) * 100)\n",
    "y_train_100 = y_train \n",
    "x_test_100 = x_test + (np.random.normal(size = x_test.shape) * 100)\n",
    "y_test_100 = y_test \n",
    "check_train_100 = []\n",
    "for x in range(0,len(x_train_100)):\n",
    "    check_train_100.append(np.max(x_train_100[x]))\n",
    "check_test_100 = []\n",
    "for x in range(0,len(x_test_100)):\n",
    "    check_test_100.append(np.max(x_test_100[x]))\n",
    "    \n",
    "x_train_125 = x_train + (np.random.normal(size = x_train.shape) * 125)\n",
    "y_train_125 = y_train \n",
    "x_test_125 = x_test + (np.random.normal(size = x_test.shape) * 125)\n",
    "y_test_125 = y_test \n",
    "check_train_125 = []\n",
    "for x in range(0,len(x_train_125)):\n",
    "    check_train_125.append(np.max(x_train_125[x]))\n",
    "check_test_125 = []\n",
    "for x in range(0,len(x_test_125)):\n",
    "    check_test_125.append(np.max(x_test_125[x]))\n",
    "    \n",
    "x_train_150 = x_train + (np.random.normal(size = x_train.shape) * 150)\n",
    "y_train_150 = y_train \n",
    "x_test_150 = x_test + (np.random.normal(size = x_test.shape) * 150)\n",
    "y_test_150 = y_test \n",
    "check_train_150 = []\n",
    "for x in range(0,len(x_train_150)):\n",
    "    check_train_150.append(np.max(x_train_150[x]))\n",
    "check_test_150 = []\n",
    "for x in range(0,len(x_test_150)):\n",
    "    check_test_150.append(np.max(x_test_150[x]))\n",
    "    \n",
    "x_train_170 = x_train + (np.random.normal(size = x_train.shape) * 170)\n",
    "y_train_170 = y_train \n",
    "x_test_170 = x_test + (np.random.normal(size = x_test.shape) * 170)\n",
    "y_test_170 = y_test \n",
    "check_train_170 = []\n",
    "for x in range(0,len(x_train_170)):\n",
    "    check_train_170.append(np.max(x_train_170[x]))\n",
    "check_test_170 = []\n",
    "for x in range(0,len(x_test_170)):\n",
    "    check_test_170.append(np.max(x_test_170[x]))\n",
    "    \n",
    "x_train_200 = x_train + (np.random.normal(size = x_train.shape) * 200)\n",
    "y_train_200 = y_train\n",
    "x_test_200 = x_test + (np.random.normal(size = x_test.shape) * 200)\n",
    "y_test_200 = y_test\n",
    "check_train_200 = []\n",
    "for x in range(0,len(x_train_200)):\n",
    "    check_train_200.append(np.max(x_train_200[x]))\n",
    "check_test_200 = []\n",
    "for x in range(0,len(x_test_200)):\n",
    "    check_test_200.append(np.max(x_test_200[x]))"
   ]
  },
  {
   "cell_type": "code",
   "execution_count": 58,
   "metadata": {},
   "outputs": [
    {
     "data": {
      "text/plain": [
       "<matplotlib.image.AxesImage at 0x1e2a91a6fd0>"
      ]
     },
     "execution_count": 58,
     "metadata": {},
     "output_type": "execute_result"
    },
    {
     "data": {
      "image/png": "[encoded data removed]",
      "text/plain": [
       "<Figure size 432x288 with 1 Axes>"
      ]
     },
     "metadata": {
      "needs_background": "light"
     },
     "output_type": "display_data"
    }
   ],
   "source": [
    "plt.imshow(x_train[0])"
   ]
  },
  {
   "cell_type": "code",
   "execution_count": 59,
   "metadata": {},
   "outputs": [
    {
     "data": {
      "text/plain": [
       "<matplotlib.image.AxesImage at 0x1e2a871c940>"
      ]
     },
     "execution_count": 59,
     "metadata": {},
     "output_type": "execute_result"
    },
    {
     "data": {
      "image/png": "[encoded data removed]",
      "text/plain": [
       "<Figure size 432x288 with 1 Axes>"
      ]
     },
     "metadata": {
      "needs_background": "light"
     },
     "output_type": "display_data"
    }
   ],
   "source": [
    "plt.imshow(x_train_noise[0])"
   ]
  },
  {
   "cell_type": "code",
   "execution_count": 60,
   "metadata": {},
   "outputs": [
    {
     "data": {
      "text/plain": [
       "<matplotlib.image.AxesImage at 0x1e2a876cac0>"
      ]
     },
     "execution_count": 60,
     "metadata": {},
     "output_type": "execute_result"
    },
    {
     "data": {
      "image/png": "[encoded data removed]",
      "text/plain": [
       "<Figure size 432x288 with 1 Axes>"
      ]
     },
     "metadata": {
      "needs_background": "light"
     },
     "output_type": "display_data"
    }
   ],
   "source": [
    "plt.imshow(x_train_10[0])"
   ]
  },
  {
   "cell_type": "code",
   "execution_count": 61,
   "metadata": {},
   "outputs": [
    {
     "data": {
      "text/plain": [
       "<matplotlib.image.AxesImage at 0x1e2a87bbca0>"
      ]
     },
     "execution_count": 61,
     "metadata": {},
     "output_type": "execute_result"
    },
    {
     "data": {
      "image/png": "[encoded data removed]",
      "text/plain": [
       "<Figure size 432x288 with 1 Axes>"
      ]
     },
     "metadata": {
      "needs_background": "light"
     },
     "output_type": "display_data"
    }
   ],
   "source": [
    "plt.imshow(x_train_50[0])"
   ]
  },
  {
   "cell_type": "code",
   "execution_count": 62,
   "metadata": {},
   "outputs": [
    {
     "data": {
      "text/plain": [
       "<matplotlib.image.AxesImage at 0x1e2a8b5ae50>"
      ]
     },
     "execution_count": 62,
     "metadata": {},
     "output_type": "execute_result"
    },
    {
     "data": {
      "image/png": "[encoded data removed]",
      "text/plain": [
       "<Figure size 432x288 with 1 Axes>"
      ]
     },
     "metadata": {
      "needs_background": "light"
     },
     "output_type": "display_data"
    }
   ],
   "source": [
    "plt.imshow(x_train_100[0])"
   ]
  },
  {
   "cell_type": "code",
   "execution_count": 63,
   "metadata": {},
   "outputs": [
    {
     "data": {
      "text/plain": [
       "<matplotlib.image.AxesImage at 0x1e2a8bb19d0>"
      ]
     },
     "execution_count": 63,
     "metadata": {},
     "output_type": "execute_result"
    },
    {
     "data": {
      "image/png": "[encoded data removed]",
      "text/plain": [
       "<Figure size 432x288 with 1 Axes>"
      ]
     },
     "metadata": {
      "needs_background": "light"
     },
     "output_type": "display_data"
    }
   ],
   "source": [
    "plt.imshow(x_train_200[0])"
   ]
  },
  {
   "cell_type": "code",
   "execution_count": 64,
   "metadata": {},
   "outputs": [
    {
     "name": "stdout",
     "output_type": "stream",
     "text": [
      "x_train shape: (60000, 28, 28, 1)\n",
      "60000 train samples\n",
      "10000 test samples\n"
     ]
    }
   ],
   "source": [
    "if backend.image_data_format() == 'channels_first':\n",
    "    x_train = x_train.reshape(x_train.shape[0], 1, img_rows, img_cols)\n",
    "    x_test = x_test.reshape(x_test.shape[0], 1, img_rows, img_cols)\n",
    "    input_shape = (1, img_rows, img_cols)\n",
    "else:\n",
    "    x_train = x_train.reshape(x_train.shape[0], img_rows, img_cols, 1)\n",
    "    x_test = x_test.reshape(x_test.shape[0], img_rows, img_cols, 1)\n",
    "    input_shape = (img_rows, img_cols, 1)\n",
    "\n",
    "x_train = x_train.astype('float32')\n",
    "x_test = x_test.astype('float32')\n",
    "x_train /= 255\n",
    "x_test /= 255\n",
    "print('x_train shape:', x_train.shape)\n",
    "print(x_train.shape[0], 'train samples')\n",
    "print(x_test.shape[0], 'test samples')"
   ]
  },
  {
   "cell_type": "code",
   "execution_count": 65,
   "metadata": {},
   "outputs": [
    {
     "name": "stdout",
     "output_type": "stream",
     "text": [
      "x_train_noise shape: (60000, 28, 28, 1)\n",
      "60000 train_noise samples\n",
      "10000 test_noise samples\n"
     ]
    }
   ],
   "source": [
    "if backend.image_data_format() == 'channels_first':\n",
    "    x_train_noise = x_train_noise.reshape(x_train_noise.shape[0], 1, img_rows, img_cols)\n",
    "    x_test_noise = x_test_noise.reshape(x_test_noise.shape[0], 1, img_rows, img_cols)\n",
    "    input_shape = (1, img_rows, img_cols)\n",
    "else:\n",
    "    x_train_noise = x_train_noise.reshape(x_train_noise.shape[0], img_rows, img_cols, 1)\n",
    "    x_test_noise = x_test_noise.reshape(x_test_noise.shape[0], img_rows, img_cols, 1)\n",
    "    input_shape = (img_rows, img_cols, 1)\n",
    "\n",
    "x_train_noise = x_train_noise.astype('float32')\n",
    "x_test_noise = x_test_noise.astype('float32')\n",
    "x_train_noise /= max(check_train)\n",
    "x_test_noise /= max(check_test)\n",
    "print('x_train_noise shape:', x_train_noise.shape)\n",
    "print(x_train_noise.shape[0], 'train_noise samples')\n",
    "print(x_test_noise.shape[0], 'test_noise samples')\n",
    "\n",
    "if backend.image_data_format() == 'channels_first':\n",
    "    x_train_10 = x_train_10.reshape(x_train_10.shape[0], 1, img_rows, img_cols)\n",
    "    x_test_10 = x_test_10.reshape(x_test_10.shape[0], 1, img_rows, img_cols)\n",
    "    input_shape = (1, img_rows, img_cols)\n",
    "else:\n",
    "    x_train_10 = x_train_10.reshape(x_train_10.shape[0], img_rows, img_cols, 1)\n",
    "    x_test_10 = x_test_10.reshape(x_test_10.shape[0], img_rows, img_cols, 1)\n",
    "    input_shape = (img_rows, img_cols, 1)\n",
    "\n",
    "x_train_10 = x_train_10.astype('float32')\n",
    "x_test_10 = x_test_10.astype('float32')\n",
    "x_train_10 /= max(check_train_10)\n",
    "x_test_10 /= max(check_test_10)\n",
    "\n",
    "if backend.image_data_format() == 'channels_first':\n",
    "    x_train_20 = x_train_20.reshape(x_train_20.shape[0], 1, img_rows, img_cols)\n",
    "    x_test_20 = x_test_20.reshape(x_test_20.shape[0], 1, img_rows, img_cols)\n",
    "    input_shape = (1, img_rows, img_cols)\n",
    "else:\n",
    "    x_train_20 = x_train_20.reshape(x_train_20.shape[0], img_rows, img_cols, 1)\n",
    "    x_test_20 = x_test_20.reshape(x_test_20.shape[0], img_rows, img_cols, 1)\n",
    "    input_shape = (img_rows, img_cols, 1)\n",
    "\n",
    "x_train_20 = x_train_20.astype('float32')\n",
    "x_test_20 = x_test_20.astype('float32')\n",
    "x_train_20 /= max(check_train_20)\n",
    "x_test_20 /= max(check_test_20)\n",
    "\n",
    "if backend.image_data_format() == 'channels_first':\n",
    "    x_train_50 = x_train_50.reshape(x_train_50.shape[0], 1, img_rows, img_cols)\n",
    "    x_test_50 = x_test_50.reshape(x_test_50.shape[0], 1, img_rows, img_cols)\n",
    "    input_shape = (1, img_rows, img_cols)\n",
    "else:\n",
    "    x_train_50 = x_train_50.reshape(x_train_50.shape[0], img_rows, img_cols, 1)\n",
    "    x_test_50 = x_test_50.reshape(x_test_50.shape[0], img_rows, img_cols, 1)\n",
    "    input_shape = (img_rows, img_cols, 1)\n",
    "\n",
    "x_train_50 = x_train_50.astype('float32')\n",
    "x_test_50 = x_test_50.astype('float32')\n",
    "x_train_50 /= max(check_train_50)\n",
    "x_test_50 /= max(check_test_50)\n",
    "\n",
    "if backend.image_data_format() == 'channels_first':\n",
    "    x_train_70 = x_train_70.reshape(x_train_70.shape[0], 1, img_rows, img_cols)\n",
    "    x_test_70 = x_test_70.reshape(x_test_70.shape[0], 1, img_rows, img_cols)\n",
    "    input_shape = (1, img_rows, img_cols)\n",
    "else:\n",
    "    x_train_70 = x_train_70.reshape(x_train_70.shape[0], img_rows, img_cols, 1)\n",
    "    x_test_70 = x_test_70.reshape(x_test_70.shape[0], img_rows, img_cols, 1)\n",
    "    input_shape = (img_rows, img_cols, 1)\n",
    "\n",
    "x_train_70 = x_train_70.astype('float32')\n",
    "x_test_70 = x_test_70.astype('float32')\n",
    "x_train_70 /= max(check_train_70)\n",
    "x_test_70 /= max(check_test_70)\n",
    "\n",
    "if backend.image_data_format() == 'channels_first':\n",
    "    x_train_90 = x_train_90.reshape(x_train_90.shape[0], 1, img_rows, img_cols)\n",
    "    x_test_90 = x_test_90.reshape(x_test_90.shape[0], 1, img_rows, img_cols)\n",
    "    input_shape = (1, img_rows, img_cols)\n",
    "else:\n",
    "    x_train_90 = x_train_90.reshape(x_train_90.shape[0], img_rows, img_cols, 1)\n",
    "    x_test_90 = x_test_90.reshape(x_test_90.shape[0], img_rows, img_cols, 1)\n",
    "    input_shape = (img_rows, img_cols, 1)\n",
    "\n",
    "x_train_90 = x_train_90.astype('float32')\n",
    "x_test_90 = x_test_90.astype('float32')\n",
    "x_train_90 /= max(check_train_90)\n",
    "x_test_90 /= max(check_test_90)\n",
    "\n",
    "if backend.image_data_format() == 'channels_first':\n",
    "    x_train_100 = x_train_100.reshape(x_train_100.shape[0], 1, img_rows, img_cols)\n",
    "    x_test_100 = x_test_100.reshape(x_test_100.shape[0], 1, img_rows, img_cols)\n",
    "    input_shape = (1, img_rows, img_cols)\n",
    "else:\n",
    "    x_train_100 = x_train_100.reshape(x_train_100.shape[0], img_rows, img_cols, 1)\n",
    "    x_test_100 = x_test_100.reshape(x_test_100.shape[0], img_rows, img_cols, 1)\n",
    "    input_shape = (img_rows, img_cols, 1)\n",
    "\n",
    "x_train_100 = x_train_100.astype('float32')\n",
    "x_test_100 = x_test_100.astype('float32')\n",
    "x_train_100 /= max(check_train_100)\n",
    "x_test_100 /= max(check_test_100)\n",
    "\n",
    "if backend.image_data_format() == 'channels_first':\n",
    "    x_train_125 = x_train_125.reshape(x_train_125.shape[0], 1, img_rows, img_cols)\n",
    "    x_test_125 = x_test_125.reshape(x_test_125.shape[0], 1, img_rows, img_cols)\n",
    "    input_shape = (1, img_rows, img_cols)\n",
    "else:\n",
    "    x_train_125 = x_train_125.reshape(x_train_125.shape[0], img_rows, img_cols, 1)\n",
    "    x_test_125 = x_test_125.reshape(x_test_125.shape[0], img_rows, img_cols, 1)\n",
    "    input_shape = (img_rows, img_cols, 1)\n",
    "\n",
    "x_train_125 = x_train_125.astype('float32')\n",
    "x_test_125 = x_test_125.astype('float32')\n",
    "x_train_125 /= max(check_train_125)\n",
    "x_test_125 /= max(check_test_125)\n",
    "\n",
    "if backend.image_data_format() == 'channels_first':\n",
    "    x_train_150 = x_train_150.reshape(x_train_150.shape[0], 1, img_rows, img_cols)\n",
    "    x_test_150 = x_test_150.reshape(x_test_150.shape[0], 1, img_rows, img_cols)\n",
    "    input_shape = (1, img_rows, img_cols)\n",
    "else:\n",
    "    x_train_150 = x_train_150.reshape(x_train_150.shape[0], img_rows, img_cols, 1)\n",
    "    x_test_150 = x_test_150.reshape(x_test_150.shape[0], img_rows, img_cols, 1)\n",
    "    input_shape = (img_rows, img_cols, 1)\n",
    "\n",
    "x_train_150 = x_train_150.astype('float32')\n",
    "x_test_150 = x_test_150.astype('float32')\n",
    "x_train_150 /= max(check_train_150)\n",
    "x_test_150 /= max(check_test_150)\n",
    "\n",
    "if backend.image_data_format() == 'channels_first':\n",
    "    x_train_170 = x_train_170.reshape(x_train_170.shape[0], 1, img_rows, img_cols)\n",
    "    x_test_170 = x_test_170.reshape(x_test_170.shape[0], 1, img_rows, img_cols)\n",
    "    input_shape = (1, img_rows, img_cols)\n",
    "else:\n",
    "    x_train_170 = x_train_170.reshape(x_train_170.shape[0], img_rows, img_cols, 1)\n",
    "    x_test_170 = x_test_170.reshape(x_test_170.shape[0], img_rows, img_cols, 1)\n",
    "    input_shape = (img_rows, img_cols, 1)\n",
    "\n",
    "x_train_170 = x_train_170.astype('float32')\n",
    "x_test_170 = x_test_170.astype('float32')\n",
    "x_train_170 /= max(check_train_170)\n",
    "x_test_170 /= max(check_test_170)\n",
    "\n",
    "if backend.image_data_format() == 'channels_first':\n",
    "    x_train_200 = x_train_200.reshape(x_train_200.shape[0], 1, img_rows, img_cols)\n",
    "    x_test_200 = x_test_200.reshape(x_test_200.shape[0], 1, img_rows, img_cols)\n",
    "    input_shape = (1, img_rows, img_cols)\n",
    "else:\n",
    "    x_train_200 = x_train_200.reshape(x_train_200.shape[0], img_rows, img_cols, 1)\n",
    "    x_test_200 = x_test_200.reshape(x_test_200.shape[0], img_rows, img_cols, 1)\n",
    "    input_shape = (img_rows, img_cols, 1)\n",
    "\n",
    "x_train_200 = x_train_200.astype('float32')\n",
    "x_test_200 = x_test_200.astype('float32')\n",
    "x_train_200 /= max(check_train_200)\n",
    "x_test_200 /= max(check_test_200)"
   ]
  },
  {
   "cell_type": "code",
   "execution_count": 66,
   "metadata": {},
   "outputs": [
    {
     "name": "stdout",
     "output_type": "stream",
     "text": [
      "Epoch 1/12\n",
      "469/469 [==============================] - 136s 288ms/step - loss: 2.2981 - accuracy: 0.1173 - val_loss: 2.2385 - val_accuracy: 0.3023\n",
      "Epoch 2/12\n",
      "469/469 [==============================] - 134s 286ms/step - loss: 2.2344 - accuracy: 0.2172 - val_loss: 2.1632 - val_accuracy: 0.4304\n",
      "Epoch 3/12\n",
      "469/469 [==============================] - 133s 284ms/step - loss: 2.1634 - accuracy: 0.3138 - val_loss: 2.0653 - val_accuracy: 0.5785\n",
      "Epoch 4/12\n",
      "469/469 [==============================] - 133s 283ms/step - loss: 2.0658 - accuracy: 0.4073 - val_loss: 1.9324 - val_accuracy: 0.6655\n",
      "Epoch 5/12\n",
      "469/469 [==============================] - 132s 282ms/step - loss: 1.9401 - accuracy: 0.4815 - val_loss: 1.7598 - val_accuracy: 0.7246\n",
      "Epoch 6/12\n",
      "469/469 [==============================] - 131s 279ms/step - loss: 1.7792 - accuracy: 0.5411 - val_loss: 1.5569 - val_accuracy: 0.7603\n",
      "Epoch 7/12\n",
      "469/469 [==============================] - 131s 278ms/step - loss: 1.6063 - accuracy: 0.5875 - val_loss: 1.3459 - val_accuracy: 0.7900\n",
      "Epoch 8/12\n",
      "469/469 [==============================] - 128s 272ms/step - loss: 1.4394 - accuracy: 0.6206 - val_loss: 1.1545 - val_accuracy: 0.8072\n",
      "Epoch 9/12\n",
      "469/469 [==============================] - 127s 271ms/step - loss: 1.2896 - accuracy: 0.6438 - val_loss: 0.9972 - val_accuracy: 0.8215\n",
      "Epoch 10/12\n",
      "469/469 [==============================] - 128s 273ms/step - loss: 1.1652 - accuracy: 0.6715 - val_loss: 0.8756 - val_accuracy: 0.8309\n",
      "Epoch 11/12\n",
      "469/469 [==============================] - 128s 273ms/step - loss: 1.0691 - accuracy: 0.6900 - val_loss: 0.7834 - val_accuracy: 0.8399\n",
      "Epoch 12/12\n",
      "469/469 [==============================] - 128s 272ms/step - loss: 0.9924 - accuracy: 0.7086 - val_loss: 0.7128 - val_accuracy: 0.8459\n",
      "Test loss: 0.7127954959869385\n",
      "Test accuracy: 0.8458999991416931\n"
     ]
    }
   ],
   "source": [
    "batch_size = 128\n",
    "num_classes = 10\n",
    "epochs = 12\n",
    "\n",
    "# convert class vectors to binary class matrices\n",
    "y_train = keras.utils.to_categorical(y_train, num_classes)\n",
    "y_test = keras.utils.to_categorical(y_test, num_classes)\n",
    "\n",
    "model = Sequential()\n",
    "model.add(Conv2D(32, kernel_size=(3, 3),\n",
    "                 activation='relu',\n",
    "                 input_shape=input_shape))\n",
    "model.add(Conv2D(64, (3, 3), activation='relu'))\n",
    "model.add(MaxPooling2D(pool_size=(2, 2)))\n",
    "model.add(Dropout(0.25))\n",
    "model.add(Flatten())\n",
    "model.add(Dense(128, activation='relu'))\n",
    "model.add(Dropout(0.5))\n",
    "model.add(Dense(num_classes, activation='softmax'))\n",
    "\n",
    "model.compile(loss=keras.losses.categorical_crossentropy,\n",
    "              optimizer=keras.optimizers.Adadelta(),\n",
    "              metrics=['accuracy'])\n",
    "\n",
    "model.fit(x_train, y_train,\n",
    "          batch_size=batch_size,\n",
    "          epochs=epochs,\n",
    "          verbose=1,\n",
    "          validation_data=(x_test, y_test))\n",
    "score = model.evaluate(x_test, y_test, verbose=0)\n",
    "print('Test loss:', score[0])\n",
    "print('Test accuracy:', score[1])"
   ]
  },
  {
   "cell_type": "code",
   "execution_count": 67,
   "metadata": {},
   "outputs": [
    {
     "name": "stdout",
     "output_type": "stream",
     "text": [
      "Epoch 1/12\n",
      "469/469 [==============================] - 130s 275ms/step - loss: 2.3027 - accuracy: 0.0986 - val_loss: 2.2641 - val_accuracy: 0.2085\n",
      "Epoch 2/12\n",
      "469/469 [==============================] - 129s 275ms/step - loss: 2.2603 - accuracy: 0.1842 - val_loss: 2.2127 - val_accuracy: 0.3729\n",
      "Epoch 3/12\n",
      "469/469 [==============================] - 129s 275ms/step - loss: 2.2085 - accuracy: 0.2740 - val_loss: 2.1418 - val_accuracy: 0.5014\n",
      "Epoch 4/12\n",
      "469/469 [==============================] - 128s 273ms/step - loss: 2.1386 - accuracy: 0.3616 - val_loss: 2.0427 - val_accuracy: 0.5940\n",
      "Epoch 5/12\n",
      "469/469 [==============================] - 128s 273ms/step - loss: 2.0438 - accuracy: 0.4285 - val_loss: 1.9098 - val_accuracy: 0.6693\n",
      "Epoch 6/12\n",
      "469/469 [==============================] - 129s 275ms/step - loss: 1.9157 - accuracy: 0.4941 - val_loss: 1.7394 - val_accuracy: 0.7178\n",
      "Epoch 7/12\n",
      "469/469 [==============================] - 128s 274ms/step - loss: 1.7603 - accuracy: 0.5509 - val_loss: 1.5418 - val_accuracy: 0.7502\n",
      "Epoch 8/12\n",
      "469/469 [==============================] - 129s 276ms/step - loss: 1.5843 - accuracy: 0.6034 - val_loss: 1.3396 - val_accuracy: 0.7715\n",
      "Epoch 9/12\n",
      "469/469 [==============================] - 130s 276ms/step - loss: 1.4213 - accuracy: 0.6275 - val_loss: 1.1571 - val_accuracy: 0.7874\n",
      "Epoch 10/12\n",
      "469/469 [==============================] - 129s 275ms/step - loss: 1.2765 - accuracy: 0.6486 - val_loss: 1.0068 - val_accuracy: 0.7990\n",
      "Epoch 11/12\n",
      "469/469 [==============================] - 129s 274ms/step - loss: 1.1580 - accuracy: 0.6711 - val_loss: 0.8883 - val_accuracy: 0.8125\n",
      "Epoch 12/12\n",
      "469/469 [==============================] - 128s 274ms/step - loss: 1.0656 - accuracy: 0.6926 - val_loss: 0.7977 - val_accuracy: 0.8234\n",
      "Test loss: 0.7976630926132202\n",
      "Test accuracy: 0.8234000205993652\n"
     ]
    }
   ],
   "source": [
    "batch_size = 128\n",
    "num_classes = 10\n",
    "epochs = 12\n",
    "\n",
    "# convert class vectors to binary class matrices\n",
    "y_train_noise = keras.utils.to_categorical(y_train_noise, num_classes)\n",
    "y_test_noise = keras.utils.to_categorical(y_test_noise, num_classes)\n",
    "\n",
    "model = Sequential()\n",
    "model.add(Conv2D(32, kernel_size=(3, 3),\n",
    "                 activation='relu',\n",
    "                 input_shape=input_shape))\n",
    "model.add(Conv2D(64, (3, 3), activation='relu'))\n",
    "model.add(MaxPooling2D(pool_size=(2, 2)))\n",
    "model.add(Dropout(0.25))\n",
    "model.add(Flatten())\n",
    "model.add(Dense(128, activation='relu'))\n",
    "model.add(Dropout(0.5))\n",
    "model.add(Dense(num_classes, activation='softmax'))\n",
    "\n",
    "model.compile(loss=keras.losses.categorical_crossentropy,\n",
    "              optimizer=keras.optimizers.Adadelta(),\n",
    "              metrics=['accuracy'])\n",
    "\n",
    "model.fit(x_train_noise, y_train_noise,\n",
    "          batch_size=batch_size,\n",
    "          epochs=epochs,\n",
    "          verbose=1,\n",
    "          validation_data=(x_test_noise, y_test_noise))\n",
    "score_noise = model.evaluate(x_test_noise, y_test_noise, verbose=0)\n",
    "print('Test loss:', score_noise[0])\n",
    "print('Test accuracy:', score_noise[1])"
   ]
  },
  {
   "cell_type": "code",
   "execution_count": 68,
   "metadata": {},
   "outputs": [
    {
     "name": "stdout",
     "output_type": "stream",
     "text": [
      "Epoch 1/12\n",
      "469/469 [==============================] - 129s 274ms/step - loss: 2.3111 - accuracy: 0.0999 - val_loss: 2.2790 - val_accuracy: 0.2606\n",
      "Epoch 2/12\n",
      "469/469 [==============================] - 129s 274ms/step - loss: 2.2755 - accuracy: 0.1813 - val_loss: 2.2394 - val_accuracy: 0.4978\n",
      "Epoch 3/12\n",
      "469/469 [==============================] - 128s 274ms/step - loss: 2.2362 - accuracy: 0.2819 - val_loss: 2.1877 - val_accuracy: 0.6082\n",
      "Epoch 4/12\n",
      "469/469 [==============================] - 128s 273ms/step - loss: 2.1856 - accuracy: 0.3674 - val_loss: 2.1153 - val_accuracy: 0.6613\n",
      "Epoch 5/12\n",
      "469/469 [==============================] - 128s 274ms/step - loss: 2.1106 - accuracy: 0.4465 - val_loss: 2.0136 - val_accuracy: 0.6924\n",
      "Epoch 6/12\n",
      "469/469 [==============================] - 129s 276ms/step - loss: 2.0131 - accuracy: 0.4993 - val_loss: 1.8760 - val_accuracy: 0.7204\n",
      "Epoch 7/12\n",
      "469/469 [==============================] - 129s 274ms/step - loss: 1.8801 - accuracy: 0.5405 - val_loss: 1.7004 - val_accuracy: 0.7511\n",
      "Epoch 8/12\n",
      "469/469 [==============================] - 128s 273ms/step - loss: 1.7207 - accuracy: 0.5802 - val_loss: 1.4962 - val_accuracy: 0.7783\n",
      "Epoch 9/12\n",
      "469/469 [==============================] - 129s 275ms/step - loss: 1.5439 - accuracy: 0.6113 - val_loss: 1.2862 - val_accuracy: 0.7968\n",
      "Epoch 10/12\n",
      "469/469 [==============================] - 128s 274ms/step - loss: 1.3763 - accuracy: 0.6366 - val_loss: 1.1037 - val_accuracy: 0.8129\n",
      "Epoch 11/12\n",
      "469/469 [==============================] - 128s 274ms/step - loss: 1.2276 - accuracy: 0.6646 - val_loss: 0.9581 - val_accuracy: 0.8218\n",
      "Epoch 12/12\n",
      "469/469 [==============================] - 128s 274ms/step - loss: 1.1229 - accuracy: 0.6823 - val_loss: 0.8476 - val_accuracy: 0.8298\n",
      "Test loss: 0.8475772738456726\n",
      "Test accuracy: 0.829800009727478\n"
     ]
    }
   ],
   "source": [
    "batch_size = 128\n",
    "num_classes = 10\n",
    "epochs = 12\n",
    "\n",
    "# convert class vectors to binary class matrices\n",
    "y_train_10 = keras.utils.to_categorical(y_train_10, num_classes)\n",
    "y_test_10 = keras.utils.to_categorical(y_test_10, num_classes)\n",
    "\n",
    "model = Sequential()\n",
    "model.add(Conv2D(32, kernel_size=(3, 3),\n",
    "                 activation='relu',\n",
    "                 input_shape=input_shape))\n",
    "model.add(Conv2D(64, (3, 3), activation='relu'))\n",
    "model.add(MaxPooling2D(pool_size=(2, 2)))\n",
    "model.add(Dropout(0.25))\n",
    "model.add(Flatten())\n",
    "model.add(Dense(128, activation='relu'))\n",
    "model.add(Dropout(0.5))\n",
    "model.add(Dense(num_classes, activation='softmax'))\n",
    "\n",
    "model.compile(loss=keras.losses.categorical_crossentropy,\n",
    "              optimizer=keras.optimizers.Adadelta(),\n",
    "              metrics=['accuracy'])\n",
    "\n",
    "model.fit(x_train_10, y_train_10,\n",
    "          batch_size=batch_size,\n",
    "          epochs=epochs,\n",
    "          verbose=1,\n",
    "          validation_data=(x_test_10, y_test_10))\n",
    "score_10 = model.evaluate(x_test_10, y_test_10, verbose=0)\n",
    "print('Test loss:', score_10[0])\n",
    "print('Test accuracy:', score_10[1])"
   ]
  },
  {
   "cell_type": "code",
   "execution_count": 69,
   "metadata": {},
   "outputs": [
    {
     "name": "stdout",
     "output_type": "stream",
     "text": [
      "Epoch 1/12\n",
      "469/469 [==============================] - 130s 275ms/step - loss: 2.2968 - accuracy: 0.1239 - val_loss: 2.2704 - val_accuracy: 0.2873\n",
      "Epoch 2/12\n",
      "469/469 [==============================] - 129s 275ms/step - loss: 2.2667 - accuracy: 0.2069 - val_loss: 2.2312 - val_accuracy: 0.4963\n",
      "Epoch 3/12\n",
      "469/469 [==============================] - 129s 275ms/step - loss: 2.2293 - accuracy: 0.3052 - val_loss: 2.1808 - val_accuracy: 0.5952\n",
      "Epoch 4/12\n",
      "469/469 [==============================] - 129s 274ms/step - loss: 2.1788 - accuracy: 0.3822 - val_loss: 2.1129 - val_accuracy: 0.6616\n",
      "Epoch 5/12\n",
      "469/469 [==============================] - 129s 275ms/step - loss: 2.1124 - accuracy: 0.4413 - val_loss: 2.0209 - val_accuracy: 0.7036\n",
      "Epoch 6/12\n",
      "469/469 [==============================] - 130s 277ms/step - loss: 2.0190 - accuracy: 0.4978 - val_loss: 1.8972 - val_accuracy: 0.7327\n",
      "Epoch 7/12\n",
      "469/469 [==============================] - 129s 275ms/step - loss: 1.8993 - accuracy: 0.5404 - val_loss: 1.7368 - val_accuracy: 0.7532\n",
      "Epoch 8/12\n",
      "469/469 [==============================] - 129s 275ms/step - loss: 1.7529 - accuracy: 0.5758 - val_loss: 1.5460 - val_accuracy: 0.7694\n",
      "Epoch 9/12\n",
      "469/469 [==============================] - 129s 276ms/step - loss: 1.5848 - accuracy: 0.6045 - val_loss: 1.3468 - val_accuracy: 0.7858\n",
      "Epoch 10/12\n",
      "469/469 [==============================] - 129s 275ms/step - loss: 1.4178 - accuracy: 0.6266 - val_loss: 1.1621 - val_accuracy: 0.8006\n",
      "Epoch 11/12\n",
      "469/469 [==============================] - 129s 275ms/step - loss: 1.2736 - accuracy: 0.6551 - val_loss: 1.0100 - val_accuracy: 0.8162\n",
      "Epoch 12/12\n",
      "469/469 [==============================] - 129s 275ms/step - loss: 1.1573 - accuracy: 0.6751 - val_loss: 0.8905 - val_accuracy: 0.8244\n",
      "Test loss: 0.69716477394104\n",
      "Test accuracy: 0.820900022983551\n"
     ]
    }
   ],
   "source": [
    "batch_size = 128\n",
    "num_classes = 10\n",
    "epochs = 12\n",
    "\n",
    "# convert class vectors to binary class matrices\n",
    "y_train_20 = keras.utils.to_categorical(y_train_20, num_classes)\n",
    "y_test_20 = keras.utils.to_categorical(y_test_20, num_classes)\n",
    "\n",
    "model = Sequential()\n",
    "model.add(Conv2D(32, kernel_size=(3, 3),\n",
    "                 activation='relu',\n",
    "                 input_shape=input_shape))\n",
    "model.add(Conv2D(64, (3, 3), activation='relu'))\n",
    "model.add(MaxPooling2D(pool_size=(2, 2)))\n",
    "model.add(Dropout(0.25))\n",
    "model.add(Flatten())\n",
    "model.add(Dense(128, activation='relu'))\n",
    "model.add(Dropout(0.5))\n",
    "model.add(Dense(num_classes, activation='softmax'))\n",
    "\n",
    "model.compile(loss=keras.losses.categorical_crossentropy,\n",
    "              optimizer=keras.optimizers.Adadelta(),\n",
    "              metrics=['accuracy'])\n",
    "\n",
    "model.fit(x_train_20, y_train_20,\n",
    "          batch_size=batch_size,\n",
    "          epochs=epochs,\n",
    "          verbose=1,\n",
    "          validation_data=(x_test_20, y_test_20))\n",
    "score_20 = model.evaluate(x_test_noise, y_test_noise, verbose=0)\n",
    "print('Test loss:', score_20[0])\n",
    "print('Test accuracy:', score_20[1])"
   ]
  },
  {
   "cell_type": "code",
   "execution_count": 70,
   "metadata": {},
   "outputs": [
    {
     "name": "stdout",
     "output_type": "stream",
     "text": [
      "Epoch 1/12\n",
      "469/469 [==============================] - 130s 277ms/step - loss: 2.2966 - accuracy: 0.1186 - val_loss: 2.2806 - val_accuracy: 0.1915\n",
      "Epoch 2/12\n",
      "469/469 [==============================] - 129s 274ms/step - loss: 2.2809 - accuracy: 0.1532 - val_loss: 2.2601 - val_accuracy: 0.2810\n",
      "Epoch 3/12\n",
      "469/469 [==============================] - 129s 275ms/step - loss: 2.2612 - accuracy: 0.2084 - val_loss: 2.2343 - val_accuracy: 0.3571\n",
      "Epoch 4/12\n",
      "469/469 [==============================] - 129s 275ms/step - loss: 2.2369 - accuracy: 0.2561 - val_loss: 2.1994 - val_accuracy: 0.3983\n",
      "Epoch 5/12\n",
      "469/469 [==============================] - 129s 275ms/step - loss: 2.2029 - accuracy: 0.3056 - val_loss: 2.1523 - val_accuracy: 0.4460\n",
      "Epoch 6/12\n",
      "469/469 [==============================] - 129s 275ms/step - loss: 2.1582 - accuracy: 0.3555 - val_loss: 2.0876 - val_accuracy: 0.4938\n",
      "Epoch 7/12\n",
      "469/469 [==============================] - 129s 275ms/step - loss: 2.0947 - accuracy: 0.4016 - val_loss: 1.9997 - val_accuracy: 0.5579\n",
      "Epoch 8/12\n",
      "469/469 [==============================] - 129s 275ms/step - loss: 2.0115 - accuracy: 0.4459 - val_loss: 1.8810 - val_accuracy: 0.6262\n",
      "Epoch 9/12\n",
      "469/469 [==============================] - 129s 276ms/step - loss: 1.9012 - accuracy: 0.4927 - val_loss: 1.7297 - val_accuracy: 0.6796\n",
      "Epoch 10/12\n",
      "469/469 [==============================] - 133s 283ms/step - loss: 1.7692 - accuracy: 0.5381 - val_loss: 1.5525 - val_accuracy: 0.7201\n",
      "Epoch 11/12\n",
      "469/469 [==============================] - 134s 285ms/step - loss: 1.6123 - accuracy: 0.5822 - val_loss: 1.3666 - val_accuracy: 0.7596\n",
      "Epoch 12/12\n",
      "469/469 [==============================] - 143s 304ms/step - loss: 1.4652 - accuracy: 0.6116 - val_loss: 1.1937 - val_accuracy: 0.7899\n",
      "Test loss: 1.1937463283538818\n",
      "Test accuracy: 0.789900004863739\n"
     ]
    }
   ],
   "source": [
    "batch_size = 128\n",
    "num_classes = 10\n",
    "epochs = 12\n",
    "\n",
    "# convert class vectors to binary class matrices\n",
    "y_train_50 = keras.utils.to_categorical(y_train_50, num_classes)\n",
    "y_test_50 = keras.utils.to_categorical(y_test_50, num_classes)\n",
    "\n",
    "model = Sequential()\n",
    "model.add(Conv2D(32, kernel_size=(3, 3),\n",
    "                 activation='relu',\n",
    "                 input_shape=input_shape))\n",
    "model.add(Conv2D(64, (3, 3), activation='relu'))\n",
    "model.add(MaxPooling2D(pool_size=(2, 2)))\n",
    "model.add(Dropout(0.25))\n",
    "model.add(Flatten())\n",
    "model.add(Dense(128, activation='relu'))\n",
    "model.add(Dropout(0.5))\n",
    "model.add(Dense(num_classes, activation='softmax'))\n",
    "\n",
    "model.compile(loss=keras.losses.categorical_crossentropy,\n",
    "              optimizer=keras.optimizers.Adadelta(),\n",
    "              metrics=['accuracy'])\n",
    "\n",
    "model.fit(x_train_50, y_train_50,\n",
    "          batch_size=batch_size,\n",
    "          epochs=epochs,\n",
    "          verbose=1,\n",
    "          validation_data=(x_test_50, y_test_50))\n",
    "score_50 = model.evaluate(x_test_50, y_test_50, verbose=0)\n",
    "print('Test loss:', score_50[0])\n",
    "print('Test accuracy:', score_50[1])"
   ]
  },
  {
   "cell_type": "code",
   "execution_count": 71,
   "metadata": {},
   "outputs": [
    {
     "name": "stdout",
     "output_type": "stream",
     "text": [
      "Epoch 1/12\n",
      "469/469 [==============================] - 142s 302ms/step - loss: 2.3027 - accuracy: 0.1095 - val_loss: 2.2941 - val_accuracy: 0.1992\n",
      "Epoch 2/12\n",
      "469/469 [==============================] - 144s 306ms/step - loss: 2.2939 - accuracy: 0.1434 - val_loss: 2.2839 - val_accuracy: 0.2992\n",
      "Epoch 3/12\n",
      "469/469 [==============================] - 147s 313ms/step - loss: 2.2856 - accuracy: 0.1878 - val_loss: 2.2722 - val_accuracy: 0.4075\n",
      "Epoch 4/12\n",
      "469/469 [==============================] - 149s 319ms/step - loss: 2.2745 - accuracy: 0.2298 - val_loss: 2.2577 - val_accuracy: 0.5072\n",
      "Epoch 5/12\n",
      "469/469 [==============================] - 154s 329ms/step - loss: 2.2609 - accuracy: 0.2732 - val_loss: 2.2388 - val_accuracy: 0.5714\n",
      "Epoch 6/12\n",
      "469/469 [==============================] - 131s 280ms/step - loss: 2.2434 - accuracy: 0.3148 - val_loss: 2.2144 - val_accuracy: 0.6148\n",
      "Epoch 7/12\n",
      "469/469 [==============================] - 128s 273ms/step - loss: 2.2211 - accuracy: 0.3555 - val_loss: 2.1823 - val_accuracy: 0.6532\n",
      "Epoch 8/12\n",
      "469/469 [==============================] - 129s 275ms/step - loss: 2.1897 - accuracy: 0.3929 - val_loss: 2.1398 - val_accuracy: 0.6832\n",
      "Epoch 9/12\n",
      "469/469 [==============================] - 129s 274ms/step - loss: 2.1496 - accuracy: 0.4355 - val_loss: 2.0832 - val_accuracy: 0.7054\n",
      "Epoch 10/12\n",
      "469/469 [==============================] - 128s 274ms/step - loss: 2.0981 - accuracy: 0.4606 - val_loss: 2.0087 - val_accuracy: 0.7172\n",
      "Epoch 11/12\n",
      "469/469 [==============================] - 128s 274ms/step - loss: 2.0278 - accuracy: 0.4972 - val_loss: 1.9125 - val_accuracy: 0.7330\n",
      "Epoch 12/12\n",
      "469/469 [==============================] - 130s 278ms/step - loss: 1.9392 - accuracy: 0.5253 - val_loss: 1.7916 - val_accuracy: 0.7436\n",
      "Test loss: 1.79155433177948\n",
      "Test accuracy: 0.7436000108718872\n"
     ]
    }
   ],
   "source": [
    "batch_size = 128\n",
    "num_classes = 10\n",
    "epochs = 12\n",
    "\n",
    "# convert class vectors to binary class matrices\n",
    "y_train_70 = keras.utils.to_categorical(y_train_70, num_classes)\n",
    "y_test_70 = keras.utils.to_categorical(y_test_70, num_classes)\n",
    "\n",
    "model = Sequential()\n",
    "model.add(Conv2D(32, kernel_size=(3, 3),\n",
    "                 activation='relu',\n",
    "                 input_shape=input_shape))\n",
    "model.add(Conv2D(64, (3, 3), activation='relu'))\n",
    "model.add(MaxPooling2D(pool_size=(2, 2)))\n",
    "model.add(Dropout(0.25))\n",
    "model.add(Flatten())\n",
    "model.add(Dense(128, activation='relu'))\n",
    "model.add(Dropout(0.5))\n",
    "model.add(Dense(num_classes, activation='softmax'))\n",
    "\n",
    "model.compile(loss=keras.losses.categorical_crossentropy,\n",
    "              optimizer=keras.optimizers.Adadelta(),\n",
    "              metrics=['accuracy'])\n",
    "\n",
    "model.fit(x_train_70, y_train_70,\n",
    "          batch_size=batch_size,\n",
    "          epochs=epochs,\n",
    "          verbose=1,\n",
    "          validation_data=(x_test_70, y_test_70))\n",
    "score_70 = model.evaluate(x_test_70, y_test_70, verbose=0)\n",
    "print('Test loss:', score_70[0])\n",
    "print('Test accuracy:', score_70[1])"
   ]
  },
  {
   "cell_type": "code",
   "execution_count": 72,
   "metadata": {},
   "outputs": [
    {
     "name": "stdout",
     "output_type": "stream",
     "text": [
      "Epoch 1/12\n",
      "469/469 [==============================] - 134s 284ms/step - loss: 2.3050 - accuracy: 0.0982 - val_loss: 2.2985 - val_accuracy: 0.1205\n",
      "Epoch 2/12\n",
      "469/469 [==============================] - 128s 273ms/step - loss: 2.2973 - accuracy: 0.1240 - val_loss: 2.2896 - val_accuracy: 0.2131\n",
      "Epoch 3/12\n",
      "469/469 [==============================] - 129s 275ms/step - loss: 2.2903 - accuracy: 0.1487 - val_loss: 2.2800 - val_accuracy: 0.3057\n",
      "Epoch 4/12\n",
      "469/469 [==============================] - 129s 275ms/step - loss: 2.2816 - accuracy: 0.1835 - val_loss: 2.2691 - val_accuracy: 0.3784\n",
      "Epoch 5/12\n",
      "469/469 [==============================] - 128s 273ms/step - loss: 2.2724 - accuracy: 0.2154 - val_loss: 2.2560 - val_accuracy: 0.4299\n",
      "Epoch 6/12\n",
      "469/469 [==============================] - 129s 275ms/step - loss: 2.2595 - accuracy: 0.2477 - val_loss: 2.2400 - val_accuracy: 0.4710\n",
      "Epoch 7/12\n",
      "469/469 [==============================] - 129s 274ms/step - loss: 2.2454 - accuracy: 0.2801 - val_loss: 2.2202 - val_accuracy: 0.5019\n",
      "Epoch 8/12\n",
      "469/469 [==============================] - 129s 275ms/step - loss: 2.2275 - accuracy: 0.3121 - val_loss: 2.1954 - val_accuracy: 0.5305\n",
      "Epoch 9/12\n",
      "469/469 [==============================] - 128s 273ms/step - loss: 2.2054 - accuracy: 0.3431 - val_loss: 2.1641 - val_accuracy: 0.5484\n",
      "Epoch 10/12\n",
      "469/469 [==============================] - 129s 274ms/step - loss: 2.1737 - accuracy: 0.3829 - val_loss: 2.1240 - val_accuracy: 0.5777\n",
      "Epoch 11/12\n",
      "469/469 [==============================] - 128s 274ms/step - loss: 2.1358 - accuracy: 0.4190 - val_loss: 2.0729 - val_accuracy: 0.6033\n",
      "Epoch 12/12\n",
      "469/469 [==============================] - 129s 275ms/step - loss: 2.0883 - accuracy: 0.4442 - val_loss: 2.0080 - val_accuracy: 0.6276\n",
      "Test loss: 2.0079829692840576\n",
      "Test accuracy: 0.6276000142097473\n"
     ]
    }
   ],
   "source": [
    "batch_size = 128\n",
    "num_classes = 10\n",
    "epochs = 12\n",
    "\n",
    "# convert class vectors to binary class matrices\n",
    "y_train_90 = keras.utils.to_categorical(y_train_90, num_classes)\n",
    "y_test_90 = keras.utils.to_categorical(y_test_90, num_classes)\n",
    "\n",
    "model = Sequential()\n",
    "model.add(Conv2D(32, kernel_size=(3, 3),\n",
    "                 activation='relu',\n",
    "                 input_shape=input_shape))\n",
    "model.add(Conv2D(64, (3, 3), activation='relu'))\n",
    "model.add(MaxPooling2D(pool_size=(2, 2)))\n",
    "model.add(Dropout(0.25))\n",
    "model.add(Flatten())\n",
    "model.add(Dense(128, activation='relu'))\n",
    "model.add(Dropout(0.5))\n",
    "model.add(Dense(num_classes, activation='softmax'))\n",
    "\n",
    "model.compile(loss=keras.losses.categorical_crossentropy,\n",
    "              optimizer=keras.optimizers.Adadelta(),\n",
    "              metrics=['accuracy'])\n",
    "\n",
    "model.fit(x_train_90, y_train_90,\n",
    "          batch_size=batch_size,\n",
    "          epochs=epochs,\n",
    "          verbose=1,\n",
    "          validation_data=(x_test_90, y_test_90))\n",
    "score_90 = model.evaluate(x_test_90, y_test_90, verbose=0)\n",
    "print('Test loss:', score_90[0])\n",
    "print('Test accuracy:', score_90[1])"
   ]
  },
  {
   "cell_type": "code",
   "execution_count": 73,
   "metadata": {},
   "outputs": [
    {
     "name": "stdout",
     "output_type": "stream",
     "text": [
      "Epoch 1/12\n",
      "469/469 [==============================] - 130s 275ms/step - loss: 2.3031 - accuracy: 0.0957 - val_loss: 2.2963 - val_accuracy: 0.1266\n",
      "Epoch 2/12\n",
      "469/469 [==============================] - 128s 274ms/step - loss: 2.2973 - accuracy: 0.1225 - val_loss: 2.2895 - val_accuracy: 0.2037\n",
      "Epoch 3/12\n",
      "469/469 [==============================] - 128s 274ms/step - loss: 2.2910 - accuracy: 0.1451 - val_loss: 2.2824 - val_accuracy: 0.2793\n",
      "Epoch 4/12\n",
      "469/469 [==============================] - 128s 273ms/step - loss: 2.2839 - accuracy: 0.1716 - val_loss: 2.2743 - val_accuracy: 0.3297\n",
      "Epoch 5/12\n",
      "469/469 [==============================] - 128s 273ms/step - loss: 2.2771 - accuracy: 0.1892 - val_loss: 2.2646 - val_accuracy: 0.3753\n",
      "Epoch 6/12\n",
      "469/469 [==============================] - 128s 274ms/step - loss: 2.2682 - accuracy: 0.2171 - val_loss: 2.2528 - val_accuracy: 0.4070\n",
      "Epoch 7/12\n",
      "469/469 [==============================] - 128s 274ms/step - loss: 2.2566 - accuracy: 0.2434 - val_loss: 2.2379 - val_accuracy: 0.4294\n",
      "Epoch 8/12\n",
      "469/469 [==============================] - 128s 274ms/step - loss: 2.2430 - accuracy: 0.2642 - val_loss: 2.2193 - val_accuracy: 0.4620\n",
      "Epoch 9/12\n",
      "469/469 [==============================] - 128s 274ms/step - loss: 2.2241 - accuracy: 0.2974 - val_loss: 2.1954 - val_accuracy: 0.4951\n",
      "Epoch 10/12\n",
      "469/469 [==============================] - 129s 274ms/step - loss: 2.2013 - accuracy: 0.3266 - val_loss: 2.1642 - val_accuracy: 0.5324\n",
      "Epoch 11/12\n",
      "469/469 [==============================] - 129s 275ms/step - loss: 2.1720 - accuracy: 0.3586 - val_loss: 2.1225 - val_accuracy: 0.5667\n",
      "Epoch 12/12\n",
      "469/469 [==============================] - 128s 274ms/step - loss: 2.1345 - accuracy: 0.3955 - val_loss: 2.0679 - val_accuracy: 0.5989\n",
      "Test loss: 2.0679471492767334\n",
      "Test accuracy: 0.5989000201225281\n"
     ]
    }
   ],
   "source": [
    "batch_size = 128\n",
    "num_classes = 10\n",
    "epochs = 12\n",
    "\n",
    "# convert class vectors to binary class matrices\n",
    "y_train_100 = keras.utils.to_categorical(y_train_100, num_classes)\n",
    "y_test_100 = keras.utils.to_categorical(y_test_100, num_classes)\n",
    "\n",
    "model = Sequential()\n",
    "model.add(Conv2D(32, kernel_size=(3, 3),\n",
    "                 activation='relu',\n",
    "                 input_shape=input_shape))\n",
    "model.add(Conv2D(64, (3, 3), activation='relu'))\n",
    "model.add(MaxPooling2D(pool_size=(2, 2)))\n",
    "model.add(Dropout(0.25))\n",
    "model.add(Flatten())\n",
    "model.add(Dense(128, activation='relu'))\n",
    "model.add(Dropout(0.5))\n",
    "model.add(Dense(num_classes, activation='softmax'))\n",
    "\n",
    "model.compile(loss=keras.losses.categorical_crossentropy,\n",
    "              optimizer=keras.optimizers.Adadelta(),\n",
    "              metrics=['accuracy'])\n",
    "\n",
    "model.fit(x_train_100, y_train_100,\n",
    "          batch_size=batch_size,\n",
    "          epochs=epochs,\n",
    "          verbose=1,\n",
    "          validation_data=(x_test_100, y_test_100))\n",
    "score_100 = model.evaluate(x_test_100, y_test_100, verbose=0)\n",
    "print('Test loss:', score_100[0])\n",
    "print('Test accuracy:', score_100[1])"
   ]
  },
  {
   "cell_type": "code",
   "execution_count": 74,
   "metadata": {},
   "outputs": [
    {
     "name": "stdout",
     "output_type": "stream",
     "text": [
      "Epoch 1/12\n",
      "469/469 [==============================] - 131s 277ms/step - loss: 2.3038 - accuracy: 0.1040 - val_loss: 2.2983 - val_accuracy: 0.1246\n",
      "Epoch 2/12\n",
      "469/469 [==============================] - 128s 274ms/step - loss: 2.2988 - accuracy: 0.1235 - val_loss: 2.2924 - val_accuracy: 0.1575\n",
      "Epoch 3/12\n",
      "469/469 [==============================] - 129s 275ms/step - loss: 2.2934 - accuracy: 0.1418 - val_loss: 2.2860 - val_accuracy: 0.1831\n",
      "Epoch 4/12\n",
      "469/469 [==============================] - 129s 275ms/step - loss: 2.2879 - accuracy: 0.1562 - val_loss: 2.2788 - val_accuracy: 0.1949\n",
      "Epoch 5/12\n",
      "469/469 [==============================] - 129s 275ms/step - loss: 2.2812 - accuracy: 0.1769 - val_loss: 2.2706 - val_accuracy: 0.2104\n",
      "Epoch 6/12\n",
      "469/469 [==============================] - 128s 274ms/step - loss: 2.2740 - accuracy: 0.1940 - val_loss: 2.2606 - val_accuracy: 0.2309\n",
      "Epoch 7/12\n",
      "469/469 [==============================] - 129s 275ms/step - loss: 2.2649 - accuracy: 0.2118 - val_loss: 2.2480 - val_accuracy: 0.2723\n",
      "Epoch 8/12\n",
      "469/469 [==============================] - 128s 273ms/step - loss: 2.2522 - accuracy: 0.2400 - val_loss: 2.2325 - val_accuracy: 0.3408\n",
      "Epoch 9/12\n",
      "469/469 [==============================] - 128s 274ms/step - loss: 2.2371 - accuracy: 0.2701 - val_loss: 2.2127 - val_accuracy: 0.4189\n",
      "Epoch 10/12\n",
      "469/469 [==============================] - 128s 274ms/step - loss: 2.2172 - accuracy: 0.3007 - val_loss: 2.1874 - val_accuracy: 0.4875\n",
      "Epoch 11/12\n",
      "469/469 [==============================] - 129s 275ms/step - loss: 2.1945 - accuracy: 0.3285 - val_loss: 2.1553 - val_accuracy: 0.5412\n",
      "Epoch 12/12\n",
      "469/469 [==============================] - 128s 274ms/step - loss: 2.1643 - accuracy: 0.3591 - val_loss: 2.1142 - val_accuracy: 0.5674\n",
      "Test loss: 2.114189386367798\n",
      "Test accuracy: 0.5673999786376953\n"
     ]
    }
   ],
   "source": [
    "batch_size = 128\n",
    "num_classes = 10\n",
    "epochs = 12\n",
    "\n",
    "# convert class vectors to binary class matrices\n",
    "y_train_125 = keras.utils.to_categorical(y_train_125, num_classes)\n",
    "y_test_125 = keras.utils.to_categorical(y_test_125, num_classes)\n",
    "\n",
    "model = Sequential()\n",
    "model.add(Conv2D(32, kernel_size=(3, 3),\n",
    "                 activation='relu',\n",
    "                 input_shape=input_shape))\n",
    "model.add(Conv2D(64, (3, 3), activation='relu'))\n",
    "model.add(MaxPooling2D(pool_size=(2, 2)))\n",
    "model.add(Dropout(0.25))\n",
    "model.add(Flatten())\n",
    "model.add(Dense(128, activation='relu'))\n",
    "model.add(Dropout(0.5))\n",
    "model.add(Dense(num_classes, activation='softmax'))\n",
    "\n",
    "model.compile(loss=keras.losses.categorical_crossentropy,\n",
    "              optimizer=keras.optimizers.Adadelta(),\n",
    "              metrics=['accuracy'])\n",
    "\n",
    "model.fit(x_train_125, y_train_125,\n",
    "          batch_size=batch_size,\n",
    "          epochs=epochs,\n",
    "          verbose=1,\n",
    "          validation_data=(x_test_125, y_test_125))\n",
    "score_125 = model.evaluate(x_test_125, y_test_125, verbose=0)\n",
    "print('Test loss:', score_125[0])\n",
    "print('Test accuracy:', score_125[1])"
   ]
  },
  {
   "cell_type": "code",
   "execution_count": 75,
   "metadata": {},
   "outputs": [
    {
     "name": "stdout",
     "output_type": "stream",
     "text": [
      "Epoch 1/12\n",
      "469/469 [==============================] - 129s 274ms/step - loss: 2.3017 - accuracy: 0.1085 - val_loss: 2.2990 - val_accuracy: 0.1285\n",
      "Epoch 2/12\n",
      "469/469 [==============================] - 128s 273ms/step - loss: 2.3000 - accuracy: 0.1121 - val_loss: 2.2966 - val_accuracy: 0.1456\n",
      "Epoch 3/12\n",
      "469/469 [==============================] - 128s 273ms/step - loss: 2.2977 - accuracy: 0.1260 - val_loss: 2.2942 - val_accuracy: 0.1416\n",
      "Epoch 4/12\n",
      "469/469 [==============================] - 128s 274ms/step - loss: 2.2959 - accuracy: 0.1322 - val_loss: 2.2916 - val_accuracy: 0.1371\n",
      "Epoch 5/12\n",
      "469/469 [==============================] - 130s 277ms/step - loss: 2.2945 - accuracy: 0.1349 - val_loss: 2.2888 - val_accuracy: 0.1323\n",
      "Epoch 6/12\n",
      "469/469 [==============================] - 128s 274ms/step - loss: 2.2910 - accuracy: 0.1465 - val_loss: 2.2858 - val_accuracy: 0.1311\n",
      "Epoch 7/12\n",
      "469/469 [==============================] - 128s 273ms/step - loss: 2.2892 - accuracy: 0.1492 - val_loss: 2.2825 - val_accuracy: 0.1342\n",
      "Epoch 8/12\n",
      "469/469 [==============================] - 129s 274ms/step - loss: 2.2865 - accuracy: 0.1563 - val_loss: 2.2789 - val_accuracy: 0.1396\n",
      "Epoch 9/12\n",
      "469/469 [==============================] - 128s 274ms/step - loss: 2.2840 - accuracy: 0.1599 - val_loss: 2.2748 - val_accuracy: 0.1456\n",
      "Epoch 10/12\n",
      "469/469 [==============================] - 129s 275ms/step - loss: 2.2804 - accuracy: 0.1649 - val_loss: 2.2702 - val_accuracy: 0.1533\n",
      "Epoch 11/12\n",
      "469/469 [==============================] - 128s 274ms/step - loss: 2.2765 - accuracy: 0.1765 - val_loss: 2.2649 - val_accuracy: 0.1682\n",
      "Epoch 12/12\n",
      "469/469 [==============================] - 128s 274ms/step - loss: 2.2722 - accuracy: 0.1829 - val_loss: 2.2589 - val_accuracy: 0.1917\n",
      "Test loss: 2.258876323699951\n",
      "Test accuracy: 0.19169999659061432\n"
     ]
    }
   ],
   "source": [
    "batch_size = 128\n",
    "num_classes = 10\n",
    "epochs = 12\n",
    "\n",
    "# convert class vectors to binary class matrices\n",
    "y_train_150 = keras.utils.to_categorical(y_train_150, num_classes)\n",
    "y_test_150 = keras.utils.to_categorical(y_test_150, num_classes)\n",
    "\n",
    "model = Sequential()\n",
    "model.add(Conv2D(32, kernel_size=(3, 3),\n",
    "                 activation='relu',\n",
    "                 input_shape=input_shape))\n",
    "model.add(Conv2D(64, (3, 3), activation='relu'))\n",
    "model.add(MaxPooling2D(pool_size=(2, 2)))\n",
    "model.add(Dropout(0.25))\n",
    "model.add(Flatten())\n",
    "model.add(Dense(128, activation='relu'))\n",
    "model.add(Dropout(0.5))\n",
    "model.add(Dense(num_classes, activation='softmax'))\n",
    "\n",
    "model.compile(loss=keras.losses.categorical_crossentropy,\n",
    "              optimizer=keras.optimizers.Adadelta(),\n",
    "              metrics=['accuracy'])\n",
    "\n",
    "model.fit(x_train_150, y_train_150,\n",
    "          batch_size=batch_size,\n",
    "          epochs=epochs,\n",
    "          verbose=1,\n",
    "          validation_data=(x_test_150, y_test_150))\n",
    "score_150 = model.evaluate(x_test_150, y_test_150, verbose=0)\n",
    "print('Test loss:', score_150[0])\n",
    "print('Test accuracy:', score_150[1])"
   ]
  },
  {
   "cell_type": "code",
   "execution_count": 76,
   "metadata": {},
   "outputs": [
    {
     "name": "stdout",
     "output_type": "stream",
     "text": [
      "Epoch 1/12\n",
      "469/469 [==============================] - 129s 275ms/step - loss: 2.3012 - accuracy: 0.1113 - val_loss: 2.2982 - val_accuracy: 0.1252\n",
      "Epoch 2/12\n",
      "469/469 [==============================] - 129s 275ms/step - loss: 2.2995 - accuracy: 0.1159 - val_loss: 2.2954 - val_accuracy: 0.1353\n",
      "Epoch 3/12\n",
      "469/469 [==============================] - 129s 275ms/step - loss: 2.2968 - accuracy: 0.1304 - val_loss: 2.2926 - val_accuracy: 0.1477\n",
      "Epoch 4/12\n",
      "469/469 [==============================] - 129s 275ms/step - loss: 2.2945 - accuracy: 0.1380 - val_loss: 2.2896 - val_accuracy: 0.1526\n",
      "Epoch 5/12\n",
      "469/469 [==============================] - 128s 274ms/step - loss: 2.2916 - accuracy: 0.1489 - val_loss: 2.2863 - val_accuracy: 0.1719\n",
      "Epoch 6/12\n",
      "469/469 [==============================] - 129s 275ms/step - loss: 2.2883 - accuracy: 0.1595 - val_loss: 2.2827 - val_accuracy: 0.1916\n",
      "Epoch 7/12\n",
      "469/469 [==============================] - 129s 275ms/step - loss: 2.2851 - accuracy: 0.1710 - val_loss: 2.2785 - val_accuracy: 0.2135\n",
      "Epoch 8/12\n",
      "469/469 [==============================] - 128s 273ms/step - loss: 2.2813 - accuracy: 0.1808 - val_loss: 2.2736 - val_accuracy: 0.2447\n",
      "Epoch 9/12\n",
      "469/469 [==============================] - 127s 271ms/step - loss: 2.2762 - accuracy: 0.1951 - val_loss: 2.2679 - val_accuracy: 0.2788\n",
      "Epoch 10/12\n",
      "469/469 [==============================] - 129s 275ms/step - loss: 2.2724 - accuracy: 0.2028 - val_loss: 2.2611 - val_accuracy: 0.3053\n",
      "Epoch 11/12\n",
      "469/469 [==============================] - 128s 273ms/step - loss: 2.2655 - accuracy: 0.2173 - val_loss: 2.2531 - val_accuracy: 0.3346\n",
      "Epoch 12/12\n",
      "469/469 [==============================] - 130s 276ms/step - loss: 2.2584 - accuracy: 0.2330 - val_loss: 2.2435 - val_accuracy: 0.3665\n",
      "Test loss: 2.2434885501861572\n",
      "Test accuracy: 0.36649999022483826\n"
     ]
    }
   ],
   "source": [
    "batch_size = 128\n",
    "num_classes = 10\n",
    "epochs = 12\n",
    "\n",
    "# convert class vectors to binary class matrices\n",
    "y_train_170 = keras.utils.to_categorical(y_train_170, num_classes)\n",
    "y_test_170 = keras.utils.to_categorical(y_test_170, num_classes)\n",
    "\n",
    "model = Sequential()\n",
    "model.add(Conv2D(32, kernel_size=(3, 3),\n",
    "                 activation='relu',\n",
    "                 input_shape=input_shape))\n",
    "model.add(Conv2D(64, (3, 3), activation='relu'))\n",
    "model.add(MaxPooling2D(pool_size=(2, 2)))\n",
    "model.add(Dropout(0.25))\n",
    "model.add(Flatten())\n",
    "model.add(Dense(128, activation='relu'))\n",
    "model.add(Dropout(0.5))\n",
    "model.add(Dense(num_classes, activation='softmax'))\n",
    "\n",
    "model.compile(loss=keras.losses.categorical_crossentropy,\n",
    "              optimizer=keras.optimizers.Adadelta(),\n",
    "              metrics=['accuracy'])\n",
    "\n",
    "model.fit(x_train_170, y_train_170,\n",
    "          batch_size=batch_size,\n",
    "          epochs=epochs,\n",
    "          verbose=1,\n",
    "          validation_data=(x_test_170, y_test_170))\n",
    "score_170 = model.evaluate(x_test_170, y_test_170, verbose=0)\n",
    "print('Test loss:', score_170[0])\n",
    "print('Test accuracy:', score_170[1])"
   ]
  },
  {
   "cell_type": "code",
   "execution_count": 77,
   "metadata": {},
   "outputs": [
    {
     "name": "stdout",
     "output_type": "stream",
     "text": [
      "Epoch 1/12\n",
      "469/469 [==============================] - 131s 278ms/step - loss: 2.3035 - accuracy: 0.1032 - val_loss: 2.3010 - val_accuracy: 0.1010\n",
      "Epoch 2/12\n",
      "469/469 [==============================] - 129s 274ms/step - loss: 2.3010 - accuracy: 0.1121 - val_loss: 2.2988 - val_accuracy: 0.1040\n",
      "Epoch 3/12\n",
      "469/469 [==============================] - 129s 274ms/step - loss: 2.2998 - accuracy: 0.1178 - val_loss: 2.2965 - val_accuracy: 0.1210\n",
      "Epoch 4/12\n",
      "469/469 [==============================] - 129s 275ms/step - loss: 2.2978 - accuracy: 0.1233 - val_loss: 2.2942 - val_accuracy: 0.1427\n",
      "Epoch 5/12\n",
      "469/469 [==============================] - 129s 275ms/step - loss: 2.2953 - accuracy: 0.1369 - val_loss: 2.2917 - val_accuracy: 0.1687\n",
      "Epoch 6/12\n",
      "469/469 [==============================] - 130s 276ms/step - loss: 2.2933 - accuracy: 0.1457 - val_loss: 2.2890 - val_accuracy: 0.1964\n",
      "Epoch 7/12\n",
      "469/469 [==============================] - 129s 274ms/step - loss: 2.2919 - accuracy: 0.1537 - val_loss: 2.2861 - val_accuracy: 0.2120\n",
      "Epoch 8/12\n",
      "469/469 [==============================] - 129s 275ms/step - loss: 2.2890 - accuracy: 0.1628 - val_loss: 2.2829 - val_accuracy: 0.2272\n",
      "Epoch 9/12\n",
      "469/469 [==============================] - 129s 275ms/step - loss: 2.2864 - accuracy: 0.1697 - val_loss: 2.2792 - val_accuracy: 0.2421\n",
      "Epoch 10/12\n",
      "469/469 [==============================] - 130s 276ms/step - loss: 2.2827 - accuracy: 0.1799 - val_loss: 2.2750 - val_accuracy: 0.2658\n",
      "Epoch 11/12\n",
      "469/469 [==============================] - 129s 276ms/step - loss: 2.2799 - accuracy: 0.1879 - val_loss: 2.2702 - val_accuracy: 0.2923\n",
      "Epoch 12/12\n",
      "469/469 [==============================] - 129s 274ms/step - loss: 2.2748 - accuracy: 0.1998 - val_loss: 2.2644 - val_accuracy: 0.3209\n",
      "Test loss: 2.2644169330596924\n",
      "Test accuracy: 0.32089999318122864\n"
     ]
    }
   ],
   "source": [
    "batch_size = 128\n",
    "num_classes = 10\n",
    "epochs = 12\n",
    "\n",
    "# convert class vectors to binary class matrices\n",
    "y_train_200 = keras.utils.to_categorical(y_train_200, num_classes)\n",
    "y_test_200 = keras.utils.to_categorical(y_test_200, num_classes)\n",
    "\n",
    "model = Sequential()\n",
    "model.add(Conv2D(32, kernel_size=(3, 3),\n",
    "                 activation='relu',\n",
    "                 input_shape=input_shape))\n",
    "model.add(Conv2D(64, (3, 3), activation='relu'))\n",
    "model.add(MaxPooling2D(pool_size=(2, 2)))\n",
    "model.add(Dropout(0.25))\n",
    "model.add(Flatten())\n",
    "model.add(Dense(128, activation='relu'))\n",
    "model.add(Dropout(0.5))\n",
    "model.add(Dense(num_classes, activation='softmax'))\n",
    "\n",
    "model.compile(loss=keras.losses.categorical_crossentropy,\n",
    "              optimizer=keras.optimizers.Adadelta(),\n",
    "              metrics=['accuracy'])\n",
    "\n",
    "model.fit(x_train_200, y_train_200,\n",
    "          batch_size=batch_size,\n",
    "          epochs=epochs,\n",
    "          verbose=1,\n",
    "          validation_data=(x_test_200, y_test_200))\n",
    "score_200 = model.evaluate(x_test_200, y_test_200, verbose=0)\n",
    "print('Test loss:', score_200[0])\n",
    "print('Test accuracy:', score_200[1])"
   ]
  },
  {
   "cell_type": "code",
   "execution_count": 81,
   "metadata": {},
   "outputs": [
    {
     "data": {
      "image/png": "[encoded data removed]",
      "text/plain": [
       "<Figure size 1440x720 with 1 Axes>"
      ]
     },
     "metadata": {
      "needs_background": "light"
     },
     "output_type": "display_data"
    }
   ],
   "source": [
    "objects = ('No Noise', 'Factor=1', 'Factor=10', 'Factor=20', 'Factor=50', 'Factor=70', 'Factor=90',\n",
    "           'Factor=100', 'Factor=125', 'Factor=150', 'Factor=170', 'Factor=200')\n",
    "scores =[score[1], score_noise[1], score_10[1], score_20[1], score_50[1], score_70[1], score_90[1], score_100[1], \n",
    "         score_125[1], score_150[1], score_170[1], score_200[1]]\n",
    "performance = np.arange(len(objects))\n",
    "plt.figure(figsize=(20,10))\n",
    "plt.bar(performance, scores)\n",
    "plt.xticks(performance, objects)\n",
    "plt.ylim([.15, .90])\n",
    "plt.ylabel(\"Test Accuracy\")\n",
    "plt.grid(True)\n",
    "plt.show()"
   ]
  },
  {
   "cell_type": "code",
   "execution_count": 79,
   "metadata": {},
   "outputs": [
    {
     "data": {
      "image/png": "[encoded data removed]",
      "text/plain": [
       "<Figure size 1440x720 with 1 Axes>"
      ]
     },
     "metadata": {
      "needs_background": "light"
     },
     "output_type": "display_data"
    }
   ],
   "source": [
    "objects = ('No Noise', 'Factor=1', 'Factor=10', 'Factor=20', 'Factor=50', 'Factor=70', 'Factor=90',\n",
    "           'Factor=100', 'Factor=125', 'Factor=150', 'Factor=170', 'Factor=200')\n",
    "scores =[score[0], score_noise[0], score_10[0], score_20[0], score_50[0], score_70[0], score_90[0], score_100[0], \n",
    "         score_125[0], score_150[0], score_170[0], score_200[0]]\n",
    "performance = np.arange(len(objects))\n",
    "plt.figure(figsize=(20,10))\n",
    "plt.bar(performance, scores)\n",
    "plt.xticks(performance, objects)\n",
    "plt.ylim([0, 2.3])\n",
    "plt.ylabel(\"Test Loss\")\n",
    "plt.grid(True)\n",
    "plt.show()"
   ]
  }
 ],
 "metadata": {
  "kernelspec": {
   "display_name": "Python 3",
   "language": "python",
   "name": "python3"
  }
 },
 "nbformat": 4,
 "nbformat_minor": 2
}
